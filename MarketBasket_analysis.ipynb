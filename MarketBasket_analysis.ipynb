{
  "cells": [
    {
      "cell_type": "markdown",
      "metadata": {
        "id": "view-in-github",
        "colab_type": "text"
      },
      "source": [
        "<a href=\"https://colab.research.google.com/github/ayushwattal/MarketBasket-Analysis/blob/main/MarketBasket_analysis.ipynb\" target=\"_parent\"><img src=\"https://colab.research.google.com/assets/colab-badge.svg\" alt=\"Open In Colab\"/></a>"
      ]
    },
    {
      "cell_type": "markdown",
      "id": "0453d51e",
      "metadata": {
        "papermill": {
          "duration": 0.038001,
          "end_time": "2021-08-22T18:48:47.708825",
          "exception": false,
          "start_time": "2021-08-22T18:48:47.670824",
          "status": "completed"
        },
        "tags": [],
        "id": "0453d51e"
      },
      "source": [
        "# Data Analysis and Operations Performed\n",
        "* Exploratory Data Analysis\n",
        "*  K-Means Clustering\n",
        "*  Elbow Method Plot\n",
        "*  PCA Dimensionality Reduction\n",
        "*  TSNE Dimensionality Reduction\n",
        "*  K-Nearest Neighbour (KNN)\n",
        "*  Confusion Matrix\n",
        "*  Classification Report"
      ]
    },
    {
      "cell_type": "code",
      "execution_count": 1,
      "id": "d94fe023",
      "metadata": {
        "execution": {
          "iopub.execute_input": "2021-08-22T18:48:47.786155Z",
          "iopub.status.busy": "2021-08-22T18:48:47.784966Z",
          "iopub.status.idle": "2021-08-22T18:48:49.038585Z",
          "shell.execute_reply": "2021-08-22T18:48:49.039096Z",
          "shell.execute_reply.started": "2021-08-17T04:16:20.510792Z"
        },
        "papermill": {
          "duration": 1.293922,
          "end_time": "2021-08-22T18:48:49.039424",
          "exception": false,
          "start_time": "2021-08-22T18:48:47.745502",
          "status": "completed"
        },
        "tags": [],
        "id": "d94fe023"
      },
      "outputs": [],
      "source": [
        "# Import Python Libraries\n",
        "\n",
        "import pandas as pd\n",
        "from sklearn.cluster import KMeans\n",
        "import numpy as np\n",
        "from sklearn.preprocessing import StandardScaler\n",
        "import matplotlib.pyplot as plt\n",
        "plt.rcParams['font.size']=14\n",
        "%matplotlib inline"
      ]
    },
    {
      "cell_type": "code",
      "execution_count": 2,
      "id": "4244d413",
      "metadata": {
        "cellView": "both",
        "execution": {
          "iopub.execute_input": "2021-08-22T18:48:49.117414Z",
          "iopub.status.busy": "2021-08-22T18:48:49.116776Z",
          "iopub.status.idle": "2021-08-22T18:48:49.136835Z",
          "shell.execute_reply": "2021-08-22T18:48:49.137332Z",
          "shell.execute_reply.started": "2021-08-17T04:16:20.522085Z"
        },
        "id": "4244d413",
        "papermill": {
          "duration": 0.060701,
          "end_time": "2021-08-22T18:48:49.137511",
          "exception": false,
          "start_time": "2021-08-22T18:48:49.076810",
          "status": "completed"
        },
        "tags": []
      },
      "outputs": [],
      "source": [
        "# Reading Dataset\n",
        "df = pd.read_csv(\"./Mall_Customers.csv\")"
      ]
    },
    {
      "cell_type": "code",
      "execution_count": 3,
      "id": "597dbf38",
      "metadata": {
        "execution": {
          "iopub.execute_input": "2021-08-22T18:48:49.213864Z",
          "iopub.status.busy": "2021-08-22T18:48:49.213061Z",
          "iopub.status.idle": "2021-08-22T18:48:49.245351Z",
          "shell.execute_reply": "2021-08-22T18:48:49.244794Z",
          "shell.execute_reply.started": "2021-08-17T04:16:20.543276Z"
        },
        "id": "597dbf38",
        "outputId": "58157be9-eebe-4efd-be06-43ef962898b4",
        "papermill": {
          "duration": 0.07137,
          "end_time": "2021-08-22T18:48:49.245492",
          "exception": false,
          "start_time": "2021-08-22T18:48:49.174122",
          "status": "completed"
        },
        "tags": [],
        "colab": {
          "base_uri": "https://localhost:8080/",
          "height": 424
        }
      },
      "outputs": [
        {
          "output_type": "execute_result",
          "data": {
            "text/html": [
              "\n",
              "  <div id=\"df-0f2e8a56-7948-4292-b582-d80aaca99f93\">\n",
              "    <div class=\"colab-df-container\">\n",
              "      <div>\n",
              "<style scoped>\n",
              "    .dataframe tbody tr th:only-of-type {\n",
              "        vertical-align: middle;\n",
              "    }\n",
              "\n",
              "    .dataframe tbody tr th {\n",
              "        vertical-align: top;\n",
              "    }\n",
              "\n",
              "    .dataframe thead th {\n",
              "        text-align: right;\n",
              "    }\n",
              "</style>\n",
              "<table border=\"1\" class=\"dataframe\">\n",
              "  <thead>\n",
              "    <tr style=\"text-align: right;\">\n",
              "      <th></th>\n",
              "      <th>CustomerID</th>\n",
              "      <th>Gender</th>\n",
              "      <th>Age</th>\n",
              "      <th>Annual Income (k$)</th>\n",
              "      <th>Spending Score (1-100)</th>\n",
              "    </tr>\n",
              "  </thead>\n",
              "  <tbody>\n",
              "    <tr>\n",
              "      <th>0</th>\n",
              "      <td>1</td>\n",
              "      <td>Male</td>\n",
              "      <td>19</td>\n",
              "      <td>15</td>\n",
              "      <td>39</td>\n",
              "    </tr>\n",
              "    <tr>\n",
              "      <th>1</th>\n",
              "      <td>2</td>\n",
              "      <td>Male</td>\n",
              "      <td>21</td>\n",
              "      <td>15</td>\n",
              "      <td>81</td>\n",
              "    </tr>\n",
              "    <tr>\n",
              "      <th>2</th>\n",
              "      <td>3</td>\n",
              "      <td>Female</td>\n",
              "      <td>20</td>\n",
              "      <td>16</td>\n",
              "      <td>6</td>\n",
              "    </tr>\n",
              "    <tr>\n",
              "      <th>3</th>\n",
              "      <td>4</td>\n",
              "      <td>Female</td>\n",
              "      <td>23</td>\n",
              "      <td>16</td>\n",
              "      <td>77</td>\n",
              "    </tr>\n",
              "    <tr>\n",
              "      <th>4</th>\n",
              "      <td>5</td>\n",
              "      <td>Female</td>\n",
              "      <td>31</td>\n",
              "      <td>17</td>\n",
              "      <td>40</td>\n",
              "    </tr>\n",
              "    <tr>\n",
              "      <th>...</th>\n",
              "      <td>...</td>\n",
              "      <td>...</td>\n",
              "      <td>...</td>\n",
              "      <td>...</td>\n",
              "      <td>...</td>\n",
              "    </tr>\n",
              "    <tr>\n",
              "      <th>195</th>\n",
              "      <td>196</td>\n",
              "      <td>Female</td>\n",
              "      <td>35</td>\n",
              "      <td>120</td>\n",
              "      <td>79</td>\n",
              "    </tr>\n",
              "    <tr>\n",
              "      <th>196</th>\n",
              "      <td>197</td>\n",
              "      <td>Female</td>\n",
              "      <td>45</td>\n",
              "      <td>126</td>\n",
              "      <td>28</td>\n",
              "    </tr>\n",
              "    <tr>\n",
              "      <th>197</th>\n",
              "      <td>198</td>\n",
              "      <td>Male</td>\n",
              "      <td>32</td>\n",
              "      <td>126</td>\n",
              "      <td>74</td>\n",
              "    </tr>\n",
              "    <tr>\n",
              "      <th>198</th>\n",
              "      <td>199</td>\n",
              "      <td>Male</td>\n",
              "      <td>32</td>\n",
              "      <td>137</td>\n",
              "      <td>18</td>\n",
              "    </tr>\n",
              "    <tr>\n",
              "      <th>199</th>\n",
              "      <td>200</td>\n",
              "      <td>Male</td>\n",
              "      <td>30</td>\n",
              "      <td>137</td>\n",
              "      <td>83</td>\n",
              "    </tr>\n",
              "  </tbody>\n",
              "</table>\n",
              "<p>200 rows × 5 columns</p>\n",
              "</div>\n",
              "      <button class=\"colab-df-convert\" onclick=\"convertToInteractive('df-0f2e8a56-7948-4292-b582-d80aaca99f93')\"\n",
              "              title=\"Convert this dataframe to an interactive table.\"\n",
              "              style=\"display:none;\">\n",
              "        \n",
              "  <svg xmlns=\"http://www.w3.org/2000/svg\" height=\"24px\"viewBox=\"0 0 24 24\"\n",
              "       width=\"24px\">\n",
              "    <path d=\"M0 0h24v24H0V0z\" fill=\"none\"/>\n",
              "    <path d=\"M18.56 5.44l.94 2.06.94-2.06 2.06-.94-2.06-.94-.94-2.06-.94 2.06-2.06.94zm-11 1L8.5 8.5l.94-2.06 2.06-.94-2.06-.94L8.5 2.5l-.94 2.06-2.06.94zm10 10l.94 2.06.94-2.06 2.06-.94-2.06-.94-.94-2.06-.94 2.06-2.06.94z\"/><path d=\"M17.41 7.96l-1.37-1.37c-.4-.4-.92-.59-1.43-.59-.52 0-1.04.2-1.43.59L10.3 9.45l-7.72 7.72c-.78.78-.78 2.05 0 2.83L4 21.41c.39.39.9.59 1.41.59.51 0 1.02-.2 1.41-.59l7.78-7.78 2.81-2.81c.8-.78.8-2.07 0-2.86zM5.41 20L4 18.59l7.72-7.72 1.47 1.35L5.41 20z\"/>\n",
              "  </svg>\n",
              "      </button>\n",
              "      \n",
              "  <style>\n",
              "    .colab-df-container {\n",
              "      display:flex;\n",
              "      flex-wrap:wrap;\n",
              "      gap: 12px;\n",
              "    }\n",
              "\n",
              "    .colab-df-convert {\n",
              "      background-color: #E8F0FE;\n",
              "      border: none;\n",
              "      border-radius: 50%;\n",
              "      cursor: pointer;\n",
              "      display: none;\n",
              "      fill: #1967D2;\n",
              "      height: 32px;\n",
              "      padding: 0 0 0 0;\n",
              "      width: 32px;\n",
              "    }\n",
              "\n",
              "    .colab-df-convert:hover {\n",
              "      background-color: #E2EBFA;\n",
              "      box-shadow: 0px 1px 2px rgba(60, 64, 67, 0.3), 0px 1px 3px 1px rgba(60, 64, 67, 0.15);\n",
              "      fill: #174EA6;\n",
              "    }\n",
              "\n",
              "    [theme=dark] .colab-df-convert {\n",
              "      background-color: #3B4455;\n",
              "      fill: #D2E3FC;\n",
              "    }\n",
              "\n",
              "    [theme=dark] .colab-df-convert:hover {\n",
              "      background-color: #434B5C;\n",
              "      box-shadow: 0px 1px 3px 1px rgba(0, 0, 0, 0.15);\n",
              "      filter: drop-shadow(0px 1px 2px rgba(0, 0, 0, 0.3));\n",
              "      fill: #FFFFFF;\n",
              "    }\n",
              "  </style>\n",
              "\n",
              "      <script>\n",
              "        const buttonEl =\n",
              "          document.querySelector('#df-0f2e8a56-7948-4292-b582-d80aaca99f93 button.colab-df-convert');\n",
              "        buttonEl.style.display =\n",
              "          google.colab.kernel.accessAllowed ? 'block' : 'none';\n",
              "\n",
              "        async function convertToInteractive(key) {\n",
              "          const element = document.querySelector('#df-0f2e8a56-7948-4292-b582-d80aaca99f93');\n",
              "          const dataTable =\n",
              "            await google.colab.kernel.invokeFunction('convertToInteractive',\n",
              "                                                     [key], {});\n",
              "          if (!dataTable) return;\n",
              "\n",
              "          const docLinkHtml = 'Like what you see? Visit the ' +\n",
              "            '<a target=\"_blank\" href=https://colab.research.google.com/notebooks/data_table.ipynb>data table notebook</a>'\n",
              "            + ' to learn more about interactive tables.';\n",
              "          element.innerHTML = '';\n",
              "          dataTable['output_type'] = 'display_data';\n",
              "          await google.colab.output.renderOutput(dataTable, element);\n",
              "          const docLink = document.createElement('div');\n",
              "          docLink.innerHTML = docLinkHtml;\n",
              "          element.appendChild(docLink);\n",
              "        }\n",
              "      </script>\n",
              "    </div>\n",
              "  </div>\n",
              "  "
            ],
            "text/plain": [
              "     CustomerID  Gender  Age  Annual Income (k$)  Spending Score (1-100)\n",
              "0             1    Male   19                  15                      39\n",
              "1             2    Male   21                  15                      81\n",
              "2             3  Female   20                  16                       6\n",
              "3             4  Female   23                  16                      77\n",
              "4             5  Female   31                  17                      40\n",
              "..          ...     ...  ...                 ...                     ...\n",
              "195         196  Female   35                 120                      79\n",
              "196         197  Female   45                 126                      28\n",
              "197         198    Male   32                 126                      74\n",
              "198         199    Male   32                 137                      18\n",
              "199         200    Male   30                 137                      83\n",
              "\n",
              "[200 rows x 5 columns]"
            ]
          },
          "metadata": {},
          "execution_count": 3
        }
      ],
      "source": [
        "df"
      ]
    },
    {
      "cell_type": "markdown",
      "id": "cc3e4313",
      "metadata": {
        "papermill": {
          "duration": 0.036903,
          "end_time": "2021-08-22T18:48:49.319796",
          "exception": false,
          "start_time": "2021-08-22T18:48:49.282893",
          "status": "completed"
        },
        "tags": [],
        "id": "cc3e4313"
      },
      "source": [
        "# Exploring ,Transforming and Visulaizing Dataset"
      ]
    },
    {
      "cell_type": "code",
      "execution_count": 4,
      "id": "dd33ddca",
      "metadata": {
        "execution": {
          "iopub.execute_input": "2021-08-22T18:48:49.397797Z",
          "iopub.status.busy": "2021-08-22T18:48:49.397108Z",
          "iopub.status.idle": "2021-08-22T18:48:49.402572Z",
          "shell.execute_reply": "2021-08-22T18:48:49.402059Z",
          "shell.execute_reply.started": "2021-08-17T04:16:20.563814Z"
        },
        "papermill": {
          "duration": 0.045976,
          "end_time": "2021-08-22T18:48:49.402712",
          "exception": false,
          "start_time": "2021-08-22T18:48:49.356736",
          "status": "completed"
        },
        "tags": [],
        "colab": {
          "base_uri": "https://localhost:8080/"
        },
        "id": "dd33ddca",
        "outputId": "80c6cd56-24dc-47d2-a2cf-9d25f2ecf882"
      },
      "outputs": [
        {
          "output_type": "execute_result",
          "data": {
            "text/plain": [
              "(200, 5)"
            ]
          },
          "metadata": {},
          "execution_count": 4
        }
      ],
      "source": [
        "df.shape"
      ]
    },
    {
      "cell_type": "code",
      "execution_count": 5,
      "id": "3d20557e",
      "metadata": {
        "execution": {
          "iopub.execute_input": "2021-08-22T18:48:49.488448Z",
          "iopub.status.busy": "2021-08-22T18:48:49.487784Z",
          "iopub.status.idle": "2021-08-22T18:48:49.504822Z",
          "shell.execute_reply": "2021-08-22T18:48:49.505419Z",
          "shell.execute_reply.started": "2021-08-17T04:16:20.578064Z"
        },
        "papermill": {
          "duration": 0.065778,
          "end_time": "2021-08-22T18:48:49.505591",
          "exception": false,
          "start_time": "2021-08-22T18:48:49.439813",
          "status": "completed"
        },
        "tags": [],
        "colab": {
          "base_uri": "https://localhost:8080/",
          "height": 300
        },
        "id": "3d20557e",
        "outputId": "e65fff1c-846a-4724-bdb3-e546e1b7ff76"
      },
      "outputs": [
        {
          "output_type": "execute_result",
          "data": {
            "text/html": [
              "\n",
              "  <div id=\"df-acca5108-22f6-41c0-9712-056220d49722\">\n",
              "    <div class=\"colab-df-container\">\n",
              "      <div>\n",
              "<style scoped>\n",
              "    .dataframe tbody tr th:only-of-type {\n",
              "        vertical-align: middle;\n",
              "    }\n",
              "\n",
              "    .dataframe tbody tr th {\n",
              "        vertical-align: top;\n",
              "    }\n",
              "\n",
              "    .dataframe thead th {\n",
              "        text-align: right;\n",
              "    }\n",
              "</style>\n",
              "<table border=\"1\" class=\"dataframe\">\n",
              "  <thead>\n",
              "    <tr style=\"text-align: right;\">\n",
              "      <th></th>\n",
              "      <th>Age</th>\n",
              "      <th>Annual Income (k$)</th>\n",
              "      <th>Spending Score (1-100)</th>\n",
              "    </tr>\n",
              "  </thead>\n",
              "  <tbody>\n",
              "    <tr>\n",
              "      <th>count</th>\n",
              "      <td>200.000000</td>\n",
              "      <td>200.000000</td>\n",
              "      <td>200.000000</td>\n",
              "    </tr>\n",
              "    <tr>\n",
              "      <th>mean</th>\n",
              "      <td>38.850000</td>\n",
              "      <td>60.560000</td>\n",
              "      <td>50.200000</td>\n",
              "    </tr>\n",
              "    <tr>\n",
              "      <th>std</th>\n",
              "      <td>13.969007</td>\n",
              "      <td>26.264721</td>\n",
              "      <td>25.823522</td>\n",
              "    </tr>\n",
              "    <tr>\n",
              "      <th>min</th>\n",
              "      <td>18.000000</td>\n",
              "      <td>15.000000</td>\n",
              "      <td>1.000000</td>\n",
              "    </tr>\n",
              "    <tr>\n",
              "      <th>25%</th>\n",
              "      <td>28.750000</td>\n",
              "      <td>41.500000</td>\n",
              "      <td>34.750000</td>\n",
              "    </tr>\n",
              "    <tr>\n",
              "      <th>50%</th>\n",
              "      <td>36.000000</td>\n",
              "      <td>61.500000</td>\n",
              "      <td>50.000000</td>\n",
              "    </tr>\n",
              "    <tr>\n",
              "      <th>75%</th>\n",
              "      <td>49.000000</td>\n",
              "      <td>78.000000</td>\n",
              "      <td>73.000000</td>\n",
              "    </tr>\n",
              "    <tr>\n",
              "      <th>max</th>\n",
              "      <td>70.000000</td>\n",
              "      <td>137.000000</td>\n",
              "      <td>99.000000</td>\n",
              "    </tr>\n",
              "  </tbody>\n",
              "</table>\n",
              "</div>\n",
              "      <button class=\"colab-df-convert\" onclick=\"convertToInteractive('df-acca5108-22f6-41c0-9712-056220d49722')\"\n",
              "              title=\"Convert this dataframe to an interactive table.\"\n",
              "              style=\"display:none;\">\n",
              "        \n",
              "  <svg xmlns=\"http://www.w3.org/2000/svg\" height=\"24px\"viewBox=\"0 0 24 24\"\n",
              "       width=\"24px\">\n",
              "    <path d=\"M0 0h24v24H0V0z\" fill=\"none\"/>\n",
              "    <path d=\"M18.56 5.44l.94 2.06.94-2.06 2.06-.94-2.06-.94-.94-2.06-.94 2.06-2.06.94zm-11 1L8.5 8.5l.94-2.06 2.06-.94-2.06-.94L8.5 2.5l-.94 2.06-2.06.94zm10 10l.94 2.06.94-2.06 2.06-.94-2.06-.94-.94-2.06-.94 2.06-2.06.94z\"/><path d=\"M17.41 7.96l-1.37-1.37c-.4-.4-.92-.59-1.43-.59-.52 0-1.04.2-1.43.59L10.3 9.45l-7.72 7.72c-.78.78-.78 2.05 0 2.83L4 21.41c.39.39.9.59 1.41.59.51 0 1.02-.2 1.41-.59l7.78-7.78 2.81-2.81c.8-.78.8-2.07 0-2.86zM5.41 20L4 18.59l7.72-7.72 1.47 1.35L5.41 20z\"/>\n",
              "  </svg>\n",
              "      </button>\n",
              "      \n",
              "  <style>\n",
              "    .colab-df-container {\n",
              "      display:flex;\n",
              "      flex-wrap:wrap;\n",
              "      gap: 12px;\n",
              "    }\n",
              "\n",
              "    .colab-df-convert {\n",
              "      background-color: #E8F0FE;\n",
              "      border: none;\n",
              "      border-radius: 50%;\n",
              "      cursor: pointer;\n",
              "      display: none;\n",
              "      fill: #1967D2;\n",
              "      height: 32px;\n",
              "      padding: 0 0 0 0;\n",
              "      width: 32px;\n",
              "    }\n",
              "\n",
              "    .colab-df-convert:hover {\n",
              "      background-color: #E2EBFA;\n",
              "      box-shadow: 0px 1px 2px rgba(60, 64, 67, 0.3), 0px 1px 3px 1px rgba(60, 64, 67, 0.15);\n",
              "      fill: #174EA6;\n",
              "    }\n",
              "\n",
              "    [theme=dark] .colab-df-convert {\n",
              "      background-color: #3B4455;\n",
              "      fill: #D2E3FC;\n",
              "    }\n",
              "\n",
              "    [theme=dark] .colab-df-convert:hover {\n",
              "      background-color: #434B5C;\n",
              "      box-shadow: 0px 1px 3px 1px rgba(0, 0, 0, 0.15);\n",
              "      filter: drop-shadow(0px 1px 2px rgba(0, 0, 0, 0.3));\n",
              "      fill: #FFFFFF;\n",
              "    }\n",
              "  </style>\n",
              "\n",
              "      <script>\n",
              "        const buttonEl =\n",
              "          document.querySelector('#df-acca5108-22f6-41c0-9712-056220d49722 button.colab-df-convert');\n",
              "        buttonEl.style.display =\n",
              "          google.colab.kernel.accessAllowed ? 'block' : 'none';\n",
              "\n",
              "        async function convertToInteractive(key) {\n",
              "          const element = document.querySelector('#df-acca5108-22f6-41c0-9712-056220d49722');\n",
              "          const dataTable =\n",
              "            await google.colab.kernel.invokeFunction('convertToInteractive',\n",
              "                                                     [key], {});\n",
              "          if (!dataTable) return;\n",
              "\n",
              "          const docLinkHtml = 'Like what you see? Visit the ' +\n",
              "            '<a target=\"_blank\" href=https://colab.research.google.com/notebooks/data_table.ipynb>data table notebook</a>'\n",
              "            + ' to learn more about interactive tables.';\n",
              "          element.innerHTML = '';\n",
              "          dataTable['output_type'] = 'display_data';\n",
              "          await google.colab.output.renderOutput(dataTable, element);\n",
              "          const docLink = document.createElement('div');\n",
              "          docLink.innerHTML = docLinkHtml;\n",
              "          element.appendChild(docLink);\n",
              "        }\n",
              "      </script>\n",
              "    </div>\n",
              "  </div>\n",
              "  "
            ],
            "text/plain": [
              "              Age  Annual Income (k$)  Spending Score (1-100)\n",
              "count  200.000000          200.000000              200.000000\n",
              "mean    38.850000           60.560000               50.200000\n",
              "std     13.969007           26.264721               25.823522\n",
              "min     18.000000           15.000000                1.000000\n",
              "25%     28.750000           41.500000               34.750000\n",
              "50%     36.000000           61.500000               50.000000\n",
              "75%     49.000000           78.000000               73.000000\n",
              "max     70.000000          137.000000               99.000000"
            ]
          },
          "metadata": {},
          "execution_count": 5
        }
      ],
      "source": [
        "df[['Age','Annual Income (k$)','Spending Score (1-100)']].describe()"
      ]
    },
    {
      "cell_type": "code",
      "execution_count": 6,
      "id": "640ac098",
      "metadata": {
        "execution": {
          "iopub.execute_input": "2021-08-22T18:48:49.584180Z",
          "iopub.status.busy": "2021-08-22T18:48:49.583561Z",
          "iopub.status.idle": "2021-08-22T18:48:51.916025Z",
          "shell.execute_reply": "2021-08-22T18:48:51.916546Z",
          "shell.execute_reply.started": "2021-08-17T04:16:20.610148Z"
        },
        "papermill": {
          "duration": 2.373087,
          "end_time": "2021-08-22T18:48:51.916722",
          "exception": false,
          "start_time": "2021-08-22T18:48:49.543635",
          "status": "completed"
        },
        "tags": [],
        "colab": {
          "base_uri": "https://localhost:8080/",
          "height": 547
        },
        "id": "640ac098",
        "outputId": "5861090f-bf90-4939-e5ee-191d4e3c7a0b"
      },
      "outputs": [
        {
          "output_type": "display_data",
          "data": {
            "image/png": "[encoded data removed]",
            "text/plain": [
              "<Figure size 540x540 with 12 Axes>"
            ]
          },
          "metadata": {}
        }
      ],
      "source": [
        "%matplotlib inline\n",
        "import seaborn as sns\n",
        "\n",
        "sns.set(font_scale=1.1)\n",
        "sns.set_style('whitegrid')\n",
        "\n",
        "grid = sns.pairplot(data=df, vars=df.columns[2:5])"
      ]
    },
    {
      "cell_type": "markdown",
      "id": "2598d3af",
      "metadata": {
        "papermill": {
          "duration": 0.041304,
          "end_time": "2021-08-22T18:48:51.999958",
          "exception": false,
          "start_time": "2021-08-22T18:48:51.958654",
          "status": "completed"
        },
        "tags": [],
        "id": "2598d3af"
      },
      "source": [
        "After Exploring PairPlot it is seen that there are some cluster forming when we are scatter plotting 'Annual Income (k$)' with 'Spending Score (1-100)'.\n",
        "\n",
        "It is visible that approximately 5 Clusters are present."
      ]
    },
    {
      "cell_type": "code",
      "execution_count": 7,
      "id": "fb00de58",
      "metadata": {
        "execution": {
          "iopub.execute_input": "2021-08-22T18:48:52.093549Z",
          "iopub.status.busy": "2021-08-22T18:48:52.092874Z",
          "iopub.status.idle": "2021-08-22T18:48:52.095828Z",
          "shell.execute_reply": "2021-08-22T18:48:52.096638Z",
          "shell.execute_reply.started": "2021-08-17T04:16:22.906097Z"
        },
        "papermill": {
          "duration": 0.055805,
          "end_time": "2021-08-22T18:48:52.096829",
          "exception": false,
          "start_time": "2021-08-22T18:48:52.041024",
          "status": "completed"
        },
        "tags": [],
        "colab": {
          "base_uri": "https://localhost:8080/",
          "height": 206
        },
        "id": "fb00de58",
        "outputId": "aff538d5-270b-4590-fa4e-e395be06f5c8"
      },
      "outputs": [
        {
          "output_type": "execute_result",
          "data": {
            "text/html": [
              "\n",
              "  <div id=\"df-7c4e1812-577c-4ab8-9cf8-5789991b54b0\">\n",
              "    <div class=\"colab-df-container\">\n",
              "      <div>\n",
              "<style scoped>\n",
              "    .dataframe tbody tr th:only-of-type {\n",
              "        vertical-align: middle;\n",
              "    }\n",
              "\n",
              "    .dataframe tbody tr th {\n",
              "        vertical-align: top;\n",
              "    }\n",
              "\n",
              "    .dataframe thead th {\n",
              "        text-align: right;\n",
              "    }\n",
              "</style>\n",
              "<table border=\"1\" class=\"dataframe\">\n",
              "  <thead>\n",
              "    <tr style=\"text-align: right;\">\n",
              "      <th></th>\n",
              "      <th>CustomerID</th>\n",
              "      <th>Gender</th>\n",
              "      <th>Age</th>\n",
              "      <th>Annual Income (k$)</th>\n",
              "      <th>Spending Score (1-100)</th>\n",
              "    </tr>\n",
              "  </thead>\n",
              "  <tbody>\n",
              "    <tr>\n",
              "      <th>0</th>\n",
              "      <td>1</td>\n",
              "      <td>0</td>\n",
              "      <td>19</td>\n",
              "      <td>15</td>\n",
              "      <td>39</td>\n",
              "    </tr>\n",
              "    <tr>\n",
              "      <th>1</th>\n",
              "      <td>2</td>\n",
              "      <td>0</td>\n",
              "      <td>21</td>\n",
              "      <td>15</td>\n",
              "      <td>81</td>\n",
              "    </tr>\n",
              "    <tr>\n",
              "      <th>2</th>\n",
              "      <td>3</td>\n",
              "      <td>1</td>\n",
              "      <td>20</td>\n",
              "      <td>16</td>\n",
              "      <td>6</td>\n",
              "    </tr>\n",
              "    <tr>\n",
              "      <th>3</th>\n",
              "      <td>4</td>\n",
              "      <td>1</td>\n",
              "      <td>23</td>\n",
              "      <td>16</td>\n",
              "      <td>77</td>\n",
              "    </tr>\n",
              "    <tr>\n",
              "      <th>4</th>\n",
              "      <td>5</td>\n",
              "      <td>1</td>\n",
              "      <td>31</td>\n",
              "      <td>17</td>\n",
              "      <td>40</td>\n",
              "    </tr>\n",
              "  </tbody>\n",
              "</table>\n",
              "</div>\n",
              "      <button class=\"colab-df-convert\" onclick=\"convertToInteractive('df-7c4e1812-577c-4ab8-9cf8-5789991b54b0')\"\n",
              "              title=\"Convert this dataframe to an interactive table.\"\n",
              "              style=\"display:none;\">\n",
              "        \n",
              "  <svg xmlns=\"http://www.w3.org/2000/svg\" height=\"24px\"viewBox=\"0 0 24 24\"\n",
              "       width=\"24px\">\n",
              "    <path d=\"M0 0h24v24H0V0z\" fill=\"none\"/>\n",
              "    <path d=\"M18.56 5.44l.94 2.06.94-2.06 2.06-.94-2.06-.94-.94-2.06-.94 2.06-2.06.94zm-11 1L8.5 8.5l.94-2.06 2.06-.94-2.06-.94L8.5 2.5l-.94 2.06-2.06.94zm10 10l.94 2.06.94-2.06 2.06-.94-2.06-.94-.94-2.06-.94 2.06-2.06.94z\"/><path d=\"M17.41 7.96l-1.37-1.37c-.4-.4-.92-.59-1.43-.59-.52 0-1.04.2-1.43.59L10.3 9.45l-7.72 7.72c-.78.78-.78 2.05 0 2.83L4 21.41c.39.39.9.59 1.41.59.51 0 1.02-.2 1.41-.59l7.78-7.78 2.81-2.81c.8-.78.8-2.07 0-2.86zM5.41 20L4 18.59l7.72-7.72 1.47 1.35L5.41 20z\"/>\n",
              "  </svg>\n",
              "      </button>\n",
              "      \n",
              "  <style>\n",
              "    .colab-df-container {\n",
              "      display:flex;\n",
              "      flex-wrap:wrap;\n",
              "      gap: 12px;\n",
              "    }\n",
              "\n",
              "    .colab-df-convert {\n",
              "      background-color: #E8F0FE;\n",
              "      border: none;\n",
              "      border-radius: 50%;\n",
              "      cursor: pointer;\n",
              "      display: none;\n",
              "      fill: #1967D2;\n",
              "      height: 32px;\n",
              "      padding: 0 0 0 0;\n",
              "      width: 32px;\n",
              "    }\n",
              "\n",
              "    .colab-df-convert:hover {\n",
              "      background-color: #E2EBFA;\n",
              "      box-shadow: 0px 1px 2px rgba(60, 64, 67, 0.3), 0px 1px 3px 1px rgba(60, 64, 67, 0.15);\n",
              "      fill: #174EA6;\n",
              "    }\n",
              "\n",
              "    [theme=dark] .colab-df-convert {\n",
              "      background-color: #3B4455;\n",
              "      fill: #D2E3FC;\n",
              "    }\n",
              "\n",
              "    [theme=dark] .colab-df-convert:hover {\n",
              "      background-color: #434B5C;\n",
              "      box-shadow: 0px 1px 3px 1px rgba(0, 0, 0, 0.15);\n",
              "      filter: drop-shadow(0px 1px 2px rgba(0, 0, 0, 0.3));\n",
              "      fill: #FFFFFF;\n",
              "    }\n",
              "  </style>\n",
              "\n",
              "      <script>\n",
              "        const buttonEl =\n",
              "          document.querySelector('#df-7c4e1812-577c-4ab8-9cf8-5789991b54b0 button.colab-df-convert');\n",
              "        buttonEl.style.display =\n",
              "          google.colab.kernel.accessAllowed ? 'block' : 'none';\n",
              "\n",
              "        async function convertToInteractive(key) {\n",
              "          const element = document.querySelector('#df-7c4e1812-577c-4ab8-9cf8-5789991b54b0');\n",
              "          const dataTable =\n",
              "            await google.colab.kernel.invokeFunction('convertToInteractive',\n",
              "                                                     [key], {});\n",
              "          if (!dataTable) return;\n",
              "\n",
              "          const docLinkHtml = 'Like what you see? Visit the ' +\n",
              "            '<a target=\"_blank\" href=https://colab.research.google.com/notebooks/data_table.ipynb>data table notebook</a>'\n",
              "            + ' to learn more about interactive tables.';\n",
              "          element.innerHTML = '';\n",
              "          dataTable['output_type'] = 'display_data';\n",
              "          await google.colab.output.renderOutput(dataTable, element);\n",
              "          const docLink = document.createElement('div');\n",
              "          docLink.innerHTML = docLinkHtml;\n",
              "          element.appendChild(docLink);\n",
              "        }\n",
              "      </script>\n",
              "    </div>\n",
              "  </div>\n",
              "  "
            ],
            "text/plain": [
              "   CustomerID  Gender  Age  Annual Income (k$)  Spending Score (1-100)\n",
              "0           1       0   19                  15                      39\n",
              "1           2       0   21                  15                      81\n",
              "2           3       1   20                  16                       6\n",
              "3           4       1   23                  16                      77\n",
              "4           5       1   31                  17                      40"
            ]
          },
          "metadata": {},
          "execution_count": 7
        }
      ],
      "source": [
        "# There are no null values in the dataset so no need to clean.\n",
        "# Transforming Age Column into dummy/indicator variables to make easy for computation.\n",
        "df['Gender'] = pd.get_dummies(df['Gender'])\n",
        "df.head()"
      ]
    },
    {
      "cell_type": "markdown",
      "id": "7c33b269",
      "metadata": {
        "papermill": {
          "duration": 0.040972,
          "end_time": "2021-08-22T18:48:52.179497",
          "exception": false,
          "start_time": "2021-08-22T18:48:52.138525",
          "status": "completed"
        },
        "tags": [],
        "id": "7c33b269"
      },
      "source": [
        "# Scaling Dataset"
      ]
    },
    {
      "cell_type": "code",
      "execution_count": 8,
      "id": "ee3d4f5f",
      "metadata": {
        "execution": {
          "iopub.execute_input": "2021-08-22T18:48:52.264931Z",
          "iopub.status.busy": "2021-08-22T18:48:52.264269Z",
          "iopub.status.idle": "2021-08-22T18:48:52.272640Z",
          "shell.execute_reply": "2021-08-22T18:48:52.273166Z",
          "shell.execute_reply.started": "2021-08-17T04:16:22.923171Z"
        },
        "papermill": {
          "duration": 0.052742,
          "end_time": "2021-08-22T18:48:52.273355",
          "exception": false,
          "start_time": "2021-08-22T18:48:52.220613",
          "status": "completed"
        },
        "tags": [],
        "id": "ee3d4f5f"
      },
      "outputs": [],
      "source": [
        "scaler = StandardScaler()\n",
        "dataset_Scaled = scaler.fit_transform(df)"
      ]
    },
    {
      "cell_type": "markdown",
      "id": "34f47e86",
      "metadata": {
        "papermill": {
          "duration": 0.040585,
          "end_time": "2021-08-22T18:48:52.355211",
          "exception": false,
          "start_time": "2021-08-22T18:48:52.314626",
          "status": "completed"
        },
        "tags": [],
        "id": "34f47e86"
      },
      "source": [
        "# Fit the data in to KMeans Model"
      ]
    },
    {
      "cell_type": "code",
      "execution_count": 9,
      "id": "70b16082",
      "metadata": {
        "execution": {
          "iopub.execute_input": "2021-08-22T18:48:52.440993Z",
          "iopub.status.busy": "2021-08-22T18:48:52.440309Z",
          "iopub.status.idle": "2021-08-22T18:48:52.489685Z",
          "shell.execute_reply": "2021-08-22T18:48:52.489123Z",
          "shell.execute_reply.started": "2021-08-17T04:16:22.940203Z"
        },
        "papermill": {
          "duration": 0.092853,
          "end_time": "2021-08-22T18:48:52.489829",
          "exception": false,
          "start_time": "2021-08-22T18:48:52.396976",
          "status": "completed"
        },
        "tags": [],
        "colab": {
          "base_uri": "https://localhost:8080/"
        },
        "id": "70b16082",
        "outputId": "1a34dd27-9d3d-466c-9b43-ed177948e48b"
      },
      "outputs": [
        {
          "output_type": "execute_result",
          "data": {
            "text/plain": [
              "array([3, 0, 3, 0, 3, 0, 3, 0, 3, 0, 3, 0, 3, 0, 3, 0, 3, 0, 3, 0, 3, 0,\n",
              "       3, 0, 3, 0, 3, 0, 3, 0, 3, 0, 3, 0, 3, 0, 3, 0, 3, 0, 3, 0, 3, 1,\n",
              "       3, 0, 1, 1, 1, 1, 1, 1, 1, 1, 1, 1, 1, 1, 1, 1, 1, 1, 1, 1, 1, 1,\n",
              "       1, 1, 1, 1, 1, 1, 1, 1, 1, 1, 1, 1, 1, 1, 1, 1, 1, 1, 1, 1, 1, 1,\n",
              "       1, 1, 1, 1, 1, 1, 1, 1, 1, 1, 1, 1, 1, 1, 1, 1, 1, 1, 1, 1, 1, 1,\n",
              "       1, 1, 1, 1, 1, 1, 1, 1, 1, 1, 1, 1, 1, 2, 4, 2, 1, 2, 4, 2, 4, 2,\n",
              "       1, 2, 4, 2, 4, 2, 4, 2, 4, 2, 1, 2, 4, 2, 4, 2, 4, 2, 4, 2, 4, 2,\n",
              "       4, 2, 4, 2, 4, 2, 4, 2, 4, 2, 4, 2, 4, 2, 4, 2, 4, 2, 4, 2, 4, 2,\n",
              "       4, 2, 4, 2, 4, 2, 4, 2, 4, 2, 4, 2, 4, 2, 4, 2, 4, 2, 4, 2, 4, 2,\n",
              "       4, 2], dtype=int32)"
            ]
          },
          "metadata": {},
          "execution_count": 9
        }
      ],
      "source": [
        "km = KMeans(n_clusters=5, random_state=10)\n",
        "y_predicted = km.fit_predict(df[['Annual Income (k$)','Spending Score (1-100)']])\n",
        "y_predicted"
      ]
    },
    {
      "cell_type": "code",
      "execution_count": 10,
      "id": "266d94a3",
      "metadata": {
        "execution": {
          "iopub.execute_input": "2021-08-22T18:48:52.582975Z",
          "iopub.status.busy": "2021-08-22T18:48:52.581684Z",
          "iopub.status.idle": "2021-08-22T18:48:52.591687Z",
          "shell.execute_reply": "2021-08-22T18:48:52.592150Z",
          "shell.execute_reply.started": "2021-08-17T04:16:22.994594Z"
        },
        "papermill": {
          "duration": 0.060945,
          "end_time": "2021-08-22T18:48:52.592339",
          "exception": false,
          "start_time": "2021-08-22T18:48:52.531394",
          "status": "completed"
        },
        "tags": [],
        "colab": {
          "base_uri": "https://localhost:8080/",
          "height": 424
        },
        "id": "266d94a3",
        "outputId": "bd38aefb-9f4d-4f29-960f-ca73c3eb6026"
      },
      "outputs": [
        {
          "output_type": "execute_result",
          "data": {
            "text/html": [
              "\n",
              "  <div id=\"df-3767ea36-0265-46f3-8bd3-86381610ccfa\">\n",
              "    <div class=\"colab-df-container\">\n",
              "      <div>\n",
              "<style scoped>\n",
              "    .dataframe tbody tr th:only-of-type {\n",
              "        vertical-align: middle;\n",
              "    }\n",
              "\n",
              "    .dataframe tbody tr th {\n",
              "        vertical-align: top;\n",
              "    }\n",
              "\n",
              "    .dataframe thead th {\n",
              "        text-align: right;\n",
              "    }\n",
              "</style>\n",
              "<table border=\"1\" class=\"dataframe\">\n",
              "  <thead>\n",
              "    <tr style=\"text-align: right;\">\n",
              "      <th></th>\n",
              "      <th>CustomerID</th>\n",
              "      <th>Gender</th>\n",
              "      <th>Age</th>\n",
              "      <th>Annual Income (k$)</th>\n",
              "      <th>Spending Score (1-100)</th>\n",
              "      <th>cluster</th>\n",
              "    </tr>\n",
              "  </thead>\n",
              "  <tbody>\n",
              "    <tr>\n",
              "      <th>0</th>\n",
              "      <td>1</td>\n",
              "      <td>0</td>\n",
              "      <td>19</td>\n",
              "      <td>15</td>\n",
              "      <td>39</td>\n",
              "      <td>3</td>\n",
              "    </tr>\n",
              "    <tr>\n",
              "      <th>1</th>\n",
              "      <td>2</td>\n",
              "      <td>0</td>\n",
              "      <td>21</td>\n",
              "      <td>15</td>\n",
              "      <td>81</td>\n",
              "      <td>0</td>\n",
              "    </tr>\n",
              "    <tr>\n",
              "      <th>2</th>\n",
              "      <td>3</td>\n",
              "      <td>1</td>\n",
              "      <td>20</td>\n",
              "      <td>16</td>\n",
              "      <td>6</td>\n",
              "      <td>3</td>\n",
              "    </tr>\n",
              "    <tr>\n",
              "      <th>3</th>\n",
              "      <td>4</td>\n",
              "      <td>1</td>\n",
              "      <td>23</td>\n",
              "      <td>16</td>\n",
              "      <td>77</td>\n",
              "      <td>0</td>\n",
              "    </tr>\n",
              "    <tr>\n",
              "      <th>4</th>\n",
              "      <td>5</td>\n",
              "      <td>1</td>\n",
              "      <td>31</td>\n",
              "      <td>17</td>\n",
              "      <td>40</td>\n",
              "      <td>3</td>\n",
              "    </tr>\n",
              "    <tr>\n",
              "      <th>...</th>\n",
              "      <td>...</td>\n",
              "      <td>...</td>\n",
              "      <td>...</td>\n",
              "      <td>...</td>\n",
              "      <td>...</td>\n",
              "      <td>...</td>\n",
              "    </tr>\n",
              "    <tr>\n",
              "      <th>195</th>\n",
              "      <td>196</td>\n",
              "      <td>1</td>\n",
              "      <td>35</td>\n",
              "      <td>120</td>\n",
              "      <td>79</td>\n",
              "      <td>2</td>\n",
              "    </tr>\n",
              "    <tr>\n",
              "      <th>196</th>\n",
              "      <td>197</td>\n",
              "      <td>1</td>\n",
              "      <td>45</td>\n",
              "      <td>126</td>\n",
              "      <td>28</td>\n",
              "      <td>4</td>\n",
              "    </tr>\n",
              "    <tr>\n",
              "      <th>197</th>\n",
              "      <td>198</td>\n",
              "      <td>0</td>\n",
              "      <td>32</td>\n",
              "      <td>126</td>\n",
              "      <td>74</td>\n",
              "      <td>2</td>\n",
              "    </tr>\n",
              "    <tr>\n",
              "      <th>198</th>\n",
              "      <td>199</td>\n",
              "      <td>0</td>\n",
              "      <td>32</td>\n",
              "      <td>137</td>\n",
              "      <td>18</td>\n",
              "      <td>4</td>\n",
              "    </tr>\n",
              "    <tr>\n",
              "      <th>199</th>\n",
              "      <td>200</td>\n",
              "      <td>0</td>\n",
              "      <td>30</td>\n",
              "      <td>137</td>\n",
              "      <td>83</td>\n",
              "      <td>2</td>\n",
              "    </tr>\n",
              "  </tbody>\n",
              "</table>\n",
              "<p>200 rows × 6 columns</p>\n",
              "</div>\n",
              "      <button class=\"colab-df-convert\" onclick=\"convertToInteractive('df-3767ea36-0265-46f3-8bd3-86381610ccfa')\"\n",
              "              title=\"Convert this dataframe to an interactive table.\"\n",
              "              style=\"display:none;\">\n",
              "        \n",
              "  <svg xmlns=\"http://www.w3.org/2000/svg\" height=\"24px\"viewBox=\"0 0 24 24\"\n",
              "       width=\"24px\">\n",
              "    <path d=\"M0 0h24v24H0V0z\" fill=\"none\"/>\n",
              "    <path d=\"M18.56 5.44l.94 2.06.94-2.06 2.06-.94-2.06-.94-.94-2.06-.94 2.06-2.06.94zm-11 1L8.5 8.5l.94-2.06 2.06-.94-2.06-.94L8.5 2.5l-.94 2.06-2.06.94zm10 10l.94 2.06.94-2.06 2.06-.94-2.06-.94-.94-2.06-.94 2.06-2.06.94z\"/><path d=\"M17.41 7.96l-1.37-1.37c-.4-.4-.92-.59-1.43-.59-.52 0-1.04.2-1.43.59L10.3 9.45l-7.72 7.72c-.78.78-.78 2.05 0 2.83L4 21.41c.39.39.9.59 1.41.59.51 0 1.02-.2 1.41-.59l7.78-7.78 2.81-2.81c.8-.78.8-2.07 0-2.86zM5.41 20L4 18.59l7.72-7.72 1.47 1.35L5.41 20z\"/>\n",
              "  </svg>\n",
              "      </button>\n",
              "      \n",
              "  <style>\n",
              "    .colab-df-container {\n",
              "      display:flex;\n",
              "      flex-wrap:wrap;\n",
              "      gap: 12px;\n",
              "    }\n",
              "\n",
              "    .colab-df-convert {\n",
              "      background-color: #E8F0FE;\n",
              "      border: none;\n",
              "      border-radius: 50%;\n",
              "      cursor: pointer;\n",
              "      display: none;\n",
              "      fill: #1967D2;\n",
              "      height: 32px;\n",
              "      padding: 0 0 0 0;\n",
              "      width: 32px;\n",
              "    }\n",
              "\n",
              "    .colab-df-convert:hover {\n",
              "      background-color: #E2EBFA;\n",
              "      box-shadow: 0px 1px 2px rgba(60, 64, 67, 0.3), 0px 1px 3px 1px rgba(60, 64, 67, 0.15);\n",
              "      fill: #174EA6;\n",
              "    }\n",
              "\n",
              "    [theme=dark] .colab-df-convert {\n",
              "      background-color: #3B4455;\n",
              "      fill: #D2E3FC;\n",
              "    }\n",
              "\n",
              "    [theme=dark] .colab-df-convert:hover {\n",
              "      background-color: #434B5C;\n",
              "      box-shadow: 0px 1px 3px 1px rgba(0, 0, 0, 0.15);\n",
              "      filter: drop-shadow(0px 1px 2px rgba(0, 0, 0, 0.3));\n",
              "      fill: #FFFFFF;\n",
              "    }\n",
              "  </style>\n",
              "\n",
              "      <script>\n",
              "        const buttonEl =\n",
              "          document.querySelector('#df-3767ea36-0265-46f3-8bd3-86381610ccfa button.colab-df-convert');\n",
              "        buttonEl.style.display =\n",
              "          google.colab.kernel.accessAllowed ? 'block' : 'none';\n",
              "\n",
              "        async function convertToInteractive(key) {\n",
              "          const element = document.querySelector('#df-3767ea36-0265-46f3-8bd3-86381610ccfa');\n",
              "          const dataTable =\n",
              "            await google.colab.kernel.invokeFunction('convertToInteractive',\n",
              "                                                     [key], {});\n",
              "          if (!dataTable) return;\n",
              "\n",
              "          const docLinkHtml = 'Like what you see? Visit the ' +\n",
              "            '<a target=\"_blank\" href=https://colab.research.google.com/notebooks/data_table.ipynb>data table notebook</a>'\n",
              "            + ' to learn more about interactive tables.';\n",
              "          element.innerHTML = '';\n",
              "          dataTable['output_type'] = 'display_data';\n",
              "          await google.colab.output.renderOutput(dataTable, element);\n",
              "          const docLink = document.createElement('div');\n",
              "          docLink.innerHTML = docLinkHtml;\n",
              "          element.appendChild(docLink);\n",
              "        }\n",
              "      </script>\n",
              "    </div>\n",
              "  </div>\n",
              "  "
            ],
            "text/plain": [
              "     CustomerID  Gender  ...  Spending Score (1-100)  cluster\n",
              "0             1       0  ...                      39        3\n",
              "1             2       0  ...                      81        0\n",
              "2             3       1  ...                       6        3\n",
              "3             4       1  ...                      77        0\n",
              "4             5       1  ...                      40        3\n",
              "..          ...     ...  ...                     ...      ...\n",
              "195         196       1  ...                      79        2\n",
              "196         197       1  ...                      28        4\n",
              "197         198       0  ...                      74        2\n",
              "198         199       0  ...                      18        4\n",
              "199         200       0  ...                      83        2\n",
              "\n",
              "[200 rows x 6 columns]"
            ]
          },
          "metadata": {},
          "execution_count": 10
        }
      ],
      "source": [
        "df['cluster']= y_predicted\n",
        "df"
      ]
    },
    {
      "cell_type": "markdown",
      "id": "cfc0a7e3",
      "metadata": {
        "papermill": {
          "duration": 0.041799,
          "end_time": "2021-08-22T18:48:52.676296",
          "exception": false,
          "start_time": "2021-08-22T18:48:52.634497",
          "status": "completed"
        },
        "tags": [],
        "id": "cfc0a7e3"
      },
      "source": [
        "Now we have labelled or dataset on the basis of cluster."
      ]
    },
    {
      "cell_type": "code",
      "execution_count": 11,
      "id": "54597145",
      "metadata": {
        "execution": {
          "iopub.execute_input": "2021-08-22T18:48:52.765484Z",
          "iopub.status.busy": "2021-08-22T18:48:52.764494Z",
          "iopub.status.idle": "2021-08-22T18:48:52.770167Z",
          "shell.execute_reply": "2021-08-22T18:48:52.770764Z",
          "shell.execute_reply.started": "2021-08-17T04:16:23.01329Z"
        },
        "papermill": {
          "duration": 0.052574,
          "end_time": "2021-08-22T18:48:52.770946",
          "exception": false,
          "start_time": "2021-08-22T18:48:52.718372",
          "status": "completed"
        },
        "tags": [],
        "colab": {
          "base_uri": "https://localhost:8080/"
        },
        "id": "54597145",
        "outputId": "6803f9cd-7c51-4a72-8b4f-7fe24ca2c125"
      },
      "outputs": [
        {
          "output_type": "execute_result",
          "data": {
            "text/plain": [
              "array([[25.72727273, 79.36363636],\n",
              "       [55.2962963 , 49.51851852],\n",
              "       [86.53846154, 82.12820513],\n",
              "       [26.30434783, 20.91304348],\n",
              "       [88.2       , 17.11428571]])"
            ]
          },
          "metadata": {},
          "execution_count": 11
        }
      ],
      "source": [
        "# Centroid Coordinate For Clusters\n",
        "\n",
        "km.cluster_centers_"
      ]
    },
    {
      "cell_type": "code",
      "execution_count": 12,
      "id": "1d12932a",
      "metadata": {
        "execution": {
          "iopub.execute_input": "2021-08-22T18:48:52.859721Z",
          "iopub.status.busy": "2021-08-22T18:48:52.858694Z",
          "iopub.status.idle": "2021-08-22T18:48:53.161338Z",
          "shell.execute_reply": "2021-08-22T18:48:53.161813Z",
          "shell.execute_reply.started": "2021-08-17T04:16:23.026803Z"
        },
        "papermill": {
          "duration": 0.348596,
          "end_time": "2021-08-22T18:48:53.161988",
          "exception": false,
          "start_time": "2021-08-22T18:48:52.813392",
          "status": "completed"
        },
        "tags": [],
        "colab": {
          "base_uri": "https://localhost:8080/",
          "height": 305
        },
        "id": "1d12932a",
        "outputId": "32b1a4fc-65a0-4749-d9ff-04e9063c25fa"
      },
      "outputs": [
        {
          "output_type": "execute_result",
          "data": {
            "text/plain": [
              "Text(0, 0.5, 'Annual Income (k$)')"
            ]
          },
          "metadata": {},
          "execution_count": 12
        },
        {
          "output_type": "display_data",
          "data": {
            "image/png": "[encoded data removed]",
            "text/plain": [
              "<Figure size 432x288 with 1 Axes>"
            ]
          },
          "metadata": {}
        }
      ],
      "source": [
        "df1 = df[df.cluster==0]\n",
        "df2 = df[df.cluster==1]\n",
        "df3 = df[df.cluster==2]\n",
        "df4 = df[df.cluster==3]\n",
        "df5 = df[df.cluster==4]\n",
        "\n",
        "plt.scatter(df1['Spending Score (1-100)'],df1['Annual Income (k$)'],color='green')\n",
        "plt.scatter(df2['Spending Score (1-100)'],df2['Annual Income (k$)'],color='red')\n",
        "plt.scatter(df3['Spending Score (1-100)'],df3['Annual Income (k$)'],color='black')\n",
        "plt.scatter(df4['Spending Score (1-100)'],df4['Annual Income (k$)'],color='yellow')\n",
        "plt.scatter(df5['Spending Score (1-100)'],df5['Annual Income (k$)'],color='orange')\n",
        "\n",
        "plt.xlabel('Spending Score (1-100)')\n",
        "plt.ylabel('Annual Income (k$)')\n"
      ]
    },
    {
      "cell_type": "markdown",
      "id": "7dd7b706",
      "metadata": {
        "papermill": {
          "duration": 0.043875,
          "end_time": "2021-08-22T18:48:53.249669",
          "exception": false,
          "start_time": "2021-08-22T18:48:53.205794",
          "status": "completed"
        },
        "tags": [],
        "id": "7dd7b706"
      },
      "source": [
        "### Calculating Elbow Plot -  Further Experimenting with the data"
      ]
    },
    {
      "cell_type": "code",
      "execution_count": 13,
      "id": "4af2d769",
      "metadata": {
        "execution": {
          "iopub.execute_input": "2021-08-22T18:48:53.341190Z",
          "iopub.status.busy": "2021-08-22T18:48:53.340167Z",
          "iopub.status.idle": "2021-08-22T18:48:54.787852Z",
          "shell.execute_reply": "2021-08-22T18:48:54.788355Z",
          "shell.execute_reply.started": "2021-08-17T04:16:23.347646Z"
        },
        "papermill": {
          "duration": 1.495035,
          "end_time": "2021-08-22T18:48:54.788539",
          "exception": false,
          "start_time": "2021-08-22T18:48:53.293504",
          "status": "completed"
        },
        "tags": [],
        "id": "4af2d769"
      },
      "outputs": [],
      "source": [
        "sse = []\n",
        "k_rng = range(1,20)\n",
        "for k in k_rng:\n",
        "    km = KMeans(n_clusters=k)\n",
        "    km.fit(df[['Spending Score (1-100)','Annual Income (k$)']])\n",
        "    sse.append(km.inertia_)"
      ]
    },
    {
      "cell_type": "code",
      "execution_count": 14,
      "id": "c93c2dc6",
      "metadata": {
        "execution": {
          "iopub.execute_input": "2021-08-22T18:48:54.880707Z",
          "iopub.status.busy": "2021-08-22T18:48:54.879712Z",
          "iopub.status.idle": "2021-08-22T18:48:55.112458Z",
          "shell.execute_reply": "2021-08-22T18:48:55.111776Z",
          "shell.execute_reply.started": "2021-08-17T04:16:24.562201Z"
        },
        "papermill": {
          "duration": 0.280172,
          "end_time": "2021-08-22T18:48:55.112599",
          "exception": false,
          "start_time": "2021-08-22T18:48:54.832427",
          "status": "completed"
        },
        "tags": [],
        "colab": {
          "base_uri": "https://localhost:8080/",
          "height": 0
        },
        "id": "c93c2dc6",
        "outputId": "37186247-b4e9-4ef4-cbf4-55298ab5dafb"
      },
      "outputs": [
        {
          "output_type": "execute_result",
          "data": {
            "text/plain": [
              "[<matplotlib.lines.Line2D at 0x7f53fc65f490>]"
            ]
          },
          "metadata": {},
          "execution_count": 14
        },
        {
          "output_type": "display_data",
          "data": {
            "image/png": "[encoded data removed]",
            "text/plain": [
              "<Figure size 432x288 with 1 Axes>"
            ]
          },
          "metadata": {}
        }
      ],
      "source": [
        "plt.xlabel('K')\n",
        "plt.ylabel('Sum of squared error')\n",
        "plt.plot(k_rng,sse)"
      ]
    },
    {
      "cell_type": "markdown",
      "id": "77cb4473",
      "metadata": {
        "papermill": {
          "duration": 0.044913,
          "end_time": "2021-08-22T18:48:55.203089",
          "exception": false,
          "start_time": "2021-08-22T18:48:55.158176",
          "status": "completed"
        },
        "tags": [],
        "id": "77cb4473"
      },
      "source": [
        "According to Elbow Rule For K Clustering optimal cluster numbers is 5 and we have taken that only."
      ]
    },
    {
      "cell_type": "markdown",
      "id": "941ba282",
      "metadata": {
        "papermill": {
          "duration": 0.044778,
          "end_time": "2021-08-22T18:48:55.293126",
          "exception": false,
          "start_time": "2021-08-22T18:48:55.248348",
          "status": "completed"
        },
        "tags": [],
        "id": "941ba282"
      },
      "source": [
        "## Dimensionality reduction with Principal Component Analysis (PCA)"
      ]
    },
    {
      "cell_type": "code",
      "execution_count": 15,
      "id": "98f886a5",
      "metadata": {
        "execution": {
          "iopub.execute_input": "2021-08-22T18:48:55.423161Z",
          "iopub.status.busy": "2021-08-22T18:48:55.404154Z",
          "iopub.status.idle": "2021-08-22T18:48:55.427218Z",
          "shell.execute_reply": "2021-08-22T18:48:55.426561Z",
          "shell.execute_reply.started": "2021-08-17T04:16:24.812855Z"
        },
        "papermill": {
          "duration": 0.088952,
          "end_time": "2021-08-22T18:48:55.427371",
          "exception": false,
          "start_time": "2021-08-22T18:48:55.338419",
          "status": "completed"
        },
        "tags": [],
        "id": "98f886a5"
      },
      "outputs": [],
      "source": [
        "from sklearn.decomposition import PCA\n",
        "\n",
        "# Reduce to two components\n",
        "\n",
        "reduced_data_pca = PCA(n_components=2, random_state=10).fit_transform(dataset_Scaled)"
      ]
    },
    {
      "cell_type": "code",
      "execution_count": 16,
      "id": "3af4cbb8",
      "metadata": {
        "execution": {
          "iopub.execute_input": "2021-08-22T18:48:55.523740Z",
          "iopub.status.busy": "2021-08-22T18:48:55.522787Z",
          "iopub.status.idle": "2021-08-22T18:48:55.526579Z",
          "shell.execute_reply": "2021-08-22T18:48:55.527192Z",
          "shell.execute_reply.started": "2021-08-17T04:16:24.82347Z"
        },
        "papermill": {
          "duration": 0.05473,
          "end_time": "2021-08-22T18:48:55.527385",
          "exception": false,
          "start_time": "2021-08-22T18:48:55.472655",
          "status": "completed"
        },
        "tags": [],
        "colab": {
          "base_uri": "https://localhost:8080/"
        },
        "id": "3af4cbb8",
        "outputId": "563a4c20-536b-4ec6-a3e5-57a004574b9d"
      },
      "outputs": [
        {
          "output_type": "execute_result",
          "data": {
            "text/plain": [
              "(200, 2)"
            ]
          },
          "metadata": {},
          "execution_count": 16
        }
      ],
      "source": [
        "reduced_data_pca.shape"
      ]
    },
    {
      "cell_type": "code",
      "execution_count": 17,
      "id": "9f5c4531",
      "metadata": {
        "execution": {
          "iopub.execute_input": "2021-08-22T18:48:55.623266Z",
          "iopub.status.busy": "2021-08-22T18:48:55.622211Z",
          "iopub.status.idle": "2021-08-22T18:48:55.628862Z",
          "shell.execute_reply": "2021-08-22T18:48:55.629490Z",
          "shell.execute_reply.started": "2021-08-17T04:16:24.836122Z"
        },
        "papermill": {
          "duration": 0.056565,
          "end_time": "2021-08-22T18:48:55.629667",
          "exception": false,
          "start_time": "2021-08-22T18:48:55.573102",
          "status": "completed"
        },
        "tags": [],
        "colab": {
          "base_uri": "https://localhost:8080/"
        },
        "id": "9f5c4531",
        "outputId": "da965e49-f399-44a2-a15d-059b61047f83"
      },
      "outputs": [
        {
          "output_type": "execute_result",
          "data": {
            "text/plain": [
              "array([[-2.27239142, -1.47410364],\n",
              "       [-2.45422326, -0.00692224],\n",
              "       [-2.38646142, -1.74993499],\n",
              "       [-2.39737671, -0.36934116]])"
            ]
          },
          "metadata": {},
          "execution_count": 17
        }
      ],
      "source": [
        "reduced_data_pca[1:5]"
      ]
    },
    {
      "cell_type": "code",
      "execution_count": 18,
      "id": "a67f22a8",
      "metadata": {
        "execution": {
          "iopub.execute_input": "2021-08-22T18:48:55.736050Z",
          "iopub.status.busy": "2021-08-22T18:48:55.735372Z",
          "iopub.status.idle": "2021-08-22T18:48:56.164831Z",
          "shell.execute_reply": "2021-08-22T18:48:56.164166Z",
          "shell.execute_reply.started": "2021-08-17T04:16:24.849777Z"
        },
        "papermill": {
          "duration": 0.489376,
          "end_time": "2021-08-22T18:48:56.164973",
          "exception": false,
          "start_time": "2021-08-22T18:48:55.675597",
          "status": "completed"
        },
        "tags": [],
        "colab": {
          "base_uri": "https://localhost:8080/",
          "height": 397
        },
        "id": "a67f22a8",
        "outputId": "3da3055d-bbe7-4500-8d77-5cd92baf9d66"
      },
      "outputs": [
        {
          "output_type": "display_data",
          "data": {
            "image/png": "[encoded data removed]",
            "text/plain": [
              "<Figure size 576x432 with 1 Axes>"
            ]
          },
          "metadata": {}
        }
      ],
      "source": [
        "# Visulaising Reduced Data\n",
        "\n",
        "reduced_df = pd.DataFrame(reduced_data_pca,columns=['Component 1', 'Component 2'])\n",
        "reduced_df['cluster'] = df.cluster\n",
        "plt.figure(figsize=(8,6))\n",
        "axes = sns.scatterplot(data=reduced_df, hue='cluster', legend='brief', \n",
        "                       x='Component 1', y='Component 2')"
      ]
    },
    {
      "cell_type": "markdown",
      "id": "f00e2e00",
      "metadata": {
        "papermill": {
          "duration": 0.047241,
          "end_time": "2021-08-22T18:48:56.260097",
          "exception": false,
          "start_time": "2021-08-22T18:48:56.212856",
          "status": "completed"
        },
        "tags": [],
        "id": "f00e2e00"
      },
      "source": [
        "The clusters or not well defined and merge with one another"
      ]
    },
    {
      "cell_type": "markdown",
      "id": "e87ffa50",
      "metadata": {
        "papermill": {
          "duration": 0.047406,
          "end_time": "2021-08-22T18:48:56.355219",
          "exception": false,
          "start_time": "2021-08-22T18:48:56.307813",
          "status": "completed"
        },
        "tags": [],
        "id": "e87ffa50"
      },
      "source": [
        "## Dimensionality reduction with TSNE"
      ]
    },
    {
      "cell_type": "code",
      "execution_count": 19,
      "id": "ac2b8159",
      "metadata": {
        "execution": {
          "iopub.execute_input": "2021-08-22T18:48:56.459668Z",
          "iopub.status.busy": "2021-08-22T18:48:56.458991Z",
          "iopub.status.idle": "2021-08-22T18:48:57.378203Z",
          "shell.execute_reply": "2021-08-22T18:48:57.378828Z",
          "shell.execute_reply.started": "2021-08-17T04:16:25.297321Z"
        },
        "papermill": {
          "duration": 0.975429,
          "end_time": "2021-08-22T18:48:57.379032",
          "exception": false,
          "start_time": "2021-08-22T18:48:56.403603",
          "status": "completed"
        },
        "tags": [],
        "colab": {
          "base_uri": "https://localhost:8080/"
        },
        "id": "ac2b8159",
        "outputId": "3e0e7421-6d47-4ddc-de34-472e35eda72a"
      },
      "outputs": [
        {
          "output_type": "stream",
          "name": "stderr",
          "text": [
            "/usr/local/lib/python3.7/dist-packages/sklearn/manifold/_t_sne.py:783: FutureWarning: The default initialization in TSNE will change from 'random' to 'pca' in 1.2.\n",
            "  FutureWarning,\n",
            "/usr/local/lib/python3.7/dist-packages/sklearn/manifold/_t_sne.py:793: FutureWarning: The default learning rate in TSNE will change from 200.0 to 'auto' in 1.2.\n",
            "  FutureWarning,\n"
          ]
        }
      ],
      "source": [
        "from sklearn.manifold import TSNE\n",
        "\n",
        "# Reduce to two components \n",
        "\n",
        "reduced_data_tsne = TSNE(n_components=2, random_state=10).fit_transform(dataset_Scaled)"
      ]
    },
    {
      "cell_type": "code",
      "execution_count": 20,
      "id": "e926a1cd",
      "metadata": {
        "execution": {
          "iopub.execute_input": "2021-08-22T18:48:57.500225Z",
          "iopub.status.busy": "2021-08-22T18:48:57.499526Z",
          "iopub.status.idle": "2021-08-22T18:48:57.503308Z",
          "shell.execute_reply": "2021-08-22T18:48:57.503856Z",
          "shell.execute_reply.started": "2021-08-17T04:16:26.34161Z"
        },
        "papermill": {
          "duration": 0.066215,
          "end_time": "2021-08-22T18:48:57.504057",
          "exception": false,
          "start_time": "2021-08-22T18:48:57.437842",
          "status": "completed"
        },
        "tags": [],
        "colab": {
          "base_uri": "https://localhost:8080/"
        },
        "id": "e926a1cd",
        "outputId": "7f091660-e990-48c5-ba3d-d2d76cd9596a"
      },
      "outputs": [
        {
          "output_type": "execute_result",
          "data": {
            "text/plain": [
              "(200, 2)"
            ]
          },
          "metadata": {},
          "execution_count": 20
        }
      ],
      "source": [
        "reduced_data_tsne.shape"
      ]
    },
    {
      "cell_type": "code",
      "execution_count": 21,
      "id": "9c8d6e72",
      "metadata": {
        "execution": {
          "iopub.execute_input": "2021-08-22T18:48:57.628391Z",
          "iopub.status.busy": "2021-08-22T18:48:57.627538Z",
          "iopub.status.idle": "2021-08-22T18:48:57.630882Z",
          "shell.execute_reply": "2021-08-22T18:48:57.629009Z",
          "shell.execute_reply.started": "2021-08-17T04:16:26.35632Z"
        },
        "papermill": {
          "duration": 0.069632,
          "end_time": "2021-08-22T18:48:57.631044",
          "exception": false,
          "start_time": "2021-08-22T18:48:57.561412",
          "status": "completed"
        },
        "tags": [],
        "colab": {
          "base_uri": "https://localhost:8080/"
        },
        "id": "9c8d6e72",
        "outputId": "5a0b171c-33a6-4b69-a226-6dbee29e45b0"
      },
      "outputs": [
        {
          "output_type": "execute_result",
          "data": {
            "text/plain": [
              "array([[-13.146935 ,  -0.8280059],\n",
              "       [  9.28778  ,   8.794616 ],\n",
              "       [  4.57455  ,   9.563203 ],\n",
              "       [  8.159551 ,   7.997526 ]], dtype=float32)"
            ]
          },
          "metadata": {},
          "execution_count": 21
        }
      ],
      "source": [
        "reduced_data_tsne[1:5]"
      ]
    },
    {
      "cell_type": "code",
      "execution_count": 22,
      "id": "7f32046f",
      "metadata": {
        "execution": {
          "iopub.execute_input": "2021-08-22T18:48:57.759481Z",
          "iopub.status.busy": "2021-08-22T18:48:57.758766Z",
          "iopub.status.idle": "2021-08-22T18:48:58.241679Z",
          "shell.execute_reply": "2021-08-22T18:48:58.242712Z",
          "shell.execute_reply.started": "2021-08-17T04:16:26.369801Z"
        },
        "papermill": {
          "duration": 0.554352,
          "end_time": "2021-08-22T18:48:58.242926",
          "exception": false,
          "start_time": "2021-08-22T18:48:57.688574",
          "status": "completed"
        },
        "tags": [],
        "colab": {
          "base_uri": "https://localhost:8080/",
          "height": 397
        },
        "id": "7f32046f",
        "outputId": "b60eab34-b606-4475-8b28-ace3c9cd3da8"
      },
      "outputs": [
        {
          "output_type": "display_data",
          "data": {
            "image/png": "[encoded data removed]",
            "text/plain": [
              "<Figure size 576x432 with 1 Axes>"
            ]
          },
          "metadata": {}
        }
      ],
      "source": [
        "# Visulaising Reduced Data\n",
        "\n",
        "reduced_df = pd.DataFrame(reduced_data_tsne,columns=['Component 1', 'Component 2'])\n",
        "reduced_df['cluster'] = df.cluster\n",
        "plt.figure(figsize=(8,6))\n",
        "axes = sns.scatterplot(data=reduced_df, hue='cluster', legend='brief', \n",
        "                       x='Component 1', y='Component 2')"
      ]
    },
    {
      "cell_type": "markdown",
      "id": "d22b266f",
      "metadata": {
        "papermill": {
          "duration": 0.059406,
          "end_time": "2021-08-22T18:48:58.362507",
          "exception": false,
          "start_time": "2021-08-22T18:48:58.303101",
          "status": "completed"
        },
        "tags": [],
        "id": "d22b266f"
      },
      "source": [
        "# Supervised Learning for Labelled Dataset"
      ]
    },
    {
      "cell_type": "code",
      "execution_count": 23,
      "id": "fdb08861",
      "metadata": {
        "execution": {
          "iopub.execute_input": "2021-08-22T18:48:58.500472Z",
          "iopub.status.busy": "2021-08-22T18:48:58.498978Z",
          "iopub.status.idle": "2021-08-22T18:48:58.503799Z",
          "shell.execute_reply": "2021-08-22T18:48:58.504354Z",
          "shell.execute_reply.started": "2021-08-17T04:16:26.848037Z"
        },
        "papermill": {
          "duration": 0.081961,
          "end_time": "2021-08-22T18:48:58.504546",
          "exception": false,
          "start_time": "2021-08-22T18:48:58.422585",
          "status": "completed"
        },
        "tags": [],
        "colab": {
          "base_uri": "https://localhost:8080/",
          "height": 424
        },
        "id": "fdb08861",
        "outputId": "e7582817-c211-44f8-de8a-8adb8aa473df"
      },
      "outputs": [
        {
          "output_type": "execute_result",
          "data": {
            "text/html": [
              "\n",
              "  <div id=\"df-c175a1c4-7f69-4312-afff-3ab7066e92ad\">\n",
              "    <div class=\"colab-df-container\">\n",
              "      <div>\n",
              "<style scoped>\n",
              "    .dataframe tbody tr th:only-of-type {\n",
              "        vertical-align: middle;\n",
              "    }\n",
              "\n",
              "    .dataframe tbody tr th {\n",
              "        vertical-align: top;\n",
              "    }\n",
              "\n",
              "    .dataframe thead th {\n",
              "        text-align: right;\n",
              "    }\n",
              "</style>\n",
              "<table border=\"1\" class=\"dataframe\">\n",
              "  <thead>\n",
              "    <tr style=\"text-align: right;\">\n",
              "      <th></th>\n",
              "      <th>CustomerID</th>\n",
              "      <th>Gender</th>\n",
              "      <th>Age</th>\n",
              "      <th>Annual Income (k$)</th>\n",
              "      <th>Spending Score (1-100)</th>\n",
              "      <th>cluster</th>\n",
              "    </tr>\n",
              "  </thead>\n",
              "  <tbody>\n",
              "    <tr>\n",
              "      <th>0</th>\n",
              "      <td>1</td>\n",
              "      <td>0</td>\n",
              "      <td>19</td>\n",
              "      <td>15</td>\n",
              "      <td>39</td>\n",
              "      <td>3</td>\n",
              "    </tr>\n",
              "    <tr>\n",
              "      <th>1</th>\n",
              "      <td>2</td>\n",
              "      <td>0</td>\n",
              "      <td>21</td>\n",
              "      <td>15</td>\n",
              "      <td>81</td>\n",
              "      <td>0</td>\n",
              "    </tr>\n",
              "    <tr>\n",
              "      <th>2</th>\n",
              "      <td>3</td>\n",
              "      <td>1</td>\n",
              "      <td>20</td>\n",
              "      <td>16</td>\n",
              "      <td>6</td>\n",
              "      <td>3</td>\n",
              "    </tr>\n",
              "    <tr>\n",
              "      <th>3</th>\n",
              "      <td>4</td>\n",
              "      <td>1</td>\n",
              "      <td>23</td>\n",
              "      <td>16</td>\n",
              "      <td>77</td>\n",
              "      <td>0</td>\n",
              "    </tr>\n",
              "    <tr>\n",
              "      <th>4</th>\n",
              "      <td>5</td>\n",
              "      <td>1</td>\n",
              "      <td>31</td>\n",
              "      <td>17</td>\n",
              "      <td>40</td>\n",
              "      <td>3</td>\n",
              "    </tr>\n",
              "    <tr>\n",
              "      <th>...</th>\n",
              "      <td>...</td>\n",
              "      <td>...</td>\n",
              "      <td>...</td>\n",
              "      <td>...</td>\n",
              "      <td>...</td>\n",
              "      <td>...</td>\n",
              "    </tr>\n",
              "    <tr>\n",
              "      <th>195</th>\n",
              "      <td>196</td>\n",
              "      <td>1</td>\n",
              "      <td>35</td>\n",
              "      <td>120</td>\n",
              "      <td>79</td>\n",
              "      <td>2</td>\n",
              "    </tr>\n",
              "    <tr>\n",
              "      <th>196</th>\n",
              "      <td>197</td>\n",
              "      <td>1</td>\n",
              "      <td>45</td>\n",
              "      <td>126</td>\n",
              "      <td>28</td>\n",
              "      <td>4</td>\n",
              "    </tr>\n",
              "    <tr>\n",
              "      <th>197</th>\n",
              "      <td>198</td>\n",
              "      <td>0</td>\n",
              "      <td>32</td>\n",
              "      <td>126</td>\n",
              "      <td>74</td>\n",
              "      <td>2</td>\n",
              "    </tr>\n",
              "    <tr>\n",
              "      <th>198</th>\n",
              "      <td>199</td>\n",
              "      <td>0</td>\n",
              "      <td>32</td>\n",
              "      <td>137</td>\n",
              "      <td>18</td>\n",
              "      <td>4</td>\n",
              "    </tr>\n",
              "    <tr>\n",
              "      <th>199</th>\n",
              "      <td>200</td>\n",
              "      <td>0</td>\n",
              "      <td>30</td>\n",
              "      <td>137</td>\n",
              "      <td>83</td>\n",
              "      <td>2</td>\n",
              "    </tr>\n",
              "  </tbody>\n",
              "</table>\n",
              "<p>200 rows × 6 columns</p>\n",
              "</div>\n",
              "      <button class=\"colab-df-convert\" onclick=\"convertToInteractive('df-c175a1c4-7f69-4312-afff-3ab7066e92ad')\"\n",
              "              title=\"Convert this dataframe to an interactive table.\"\n",
              "              style=\"display:none;\">\n",
              "        \n",
              "  <svg xmlns=\"http://www.w3.org/2000/svg\" height=\"24px\"viewBox=\"0 0 24 24\"\n",
              "       width=\"24px\">\n",
              "    <path d=\"M0 0h24v24H0V0z\" fill=\"none\"/>\n",
              "    <path d=\"M18.56 5.44l.94 2.06.94-2.06 2.06-.94-2.06-.94-.94-2.06-.94 2.06-2.06.94zm-11 1L8.5 8.5l.94-2.06 2.06-.94-2.06-.94L8.5 2.5l-.94 2.06-2.06.94zm10 10l.94 2.06.94-2.06 2.06-.94-2.06-.94-.94-2.06-.94 2.06-2.06.94z\"/><path d=\"M17.41 7.96l-1.37-1.37c-.4-.4-.92-.59-1.43-.59-.52 0-1.04.2-1.43.59L10.3 9.45l-7.72 7.72c-.78.78-.78 2.05 0 2.83L4 21.41c.39.39.9.59 1.41.59.51 0 1.02-.2 1.41-.59l7.78-7.78 2.81-2.81c.8-.78.8-2.07 0-2.86zM5.41 20L4 18.59l7.72-7.72 1.47 1.35L5.41 20z\"/>\n",
              "  </svg>\n",
              "      </button>\n",
              "      \n",
              "  <style>\n",
              "    .colab-df-container {\n",
              "      display:flex;\n",
              "      flex-wrap:wrap;\n",
              "      gap: 12px;\n",
              "    }\n",
              "\n",
              "    .colab-df-convert {\n",
              "      background-color: #E8F0FE;\n",
              "      border: none;\n",
              "      border-radius: 50%;\n",
              "      cursor: pointer;\n",
              "      display: none;\n",
              "      fill: #1967D2;\n",
              "      height: 32px;\n",
              "      padding: 0 0 0 0;\n",
              "      width: 32px;\n",
              "    }\n",
              "\n",
              "    .colab-df-convert:hover {\n",
              "      background-color: #E2EBFA;\n",
              "      box-shadow: 0px 1px 2px rgba(60, 64, 67, 0.3), 0px 1px 3px 1px rgba(60, 64, 67, 0.15);\n",
              "      fill: #174EA6;\n",
              "    }\n",
              "\n",
              "    [theme=dark] .colab-df-convert {\n",
              "      background-color: #3B4455;\n",
              "      fill: #D2E3FC;\n",
              "    }\n",
              "\n",
              "    [theme=dark] .colab-df-convert:hover {\n",
              "      background-color: #434B5C;\n",
              "      box-shadow: 0px 1px 3px 1px rgba(0, 0, 0, 0.15);\n",
              "      filter: drop-shadow(0px 1px 2px rgba(0, 0, 0, 0.3));\n",
              "      fill: #FFFFFF;\n",
              "    }\n",
              "  </style>\n",
              "\n",
              "      <script>\n",
              "        const buttonEl =\n",
              "          document.querySelector('#df-c175a1c4-7f69-4312-afff-3ab7066e92ad button.colab-df-convert');\n",
              "        buttonEl.style.display =\n",
              "          google.colab.kernel.accessAllowed ? 'block' : 'none';\n",
              "\n",
              "        async function convertToInteractive(key) {\n",
              "          const element = document.querySelector('#df-c175a1c4-7f69-4312-afff-3ab7066e92ad');\n",
              "          const dataTable =\n",
              "            await google.colab.kernel.invokeFunction('convertToInteractive',\n",
              "                                                     [key], {});\n",
              "          if (!dataTable) return;\n",
              "\n",
              "          const docLinkHtml = 'Like what you see? Visit the ' +\n",
              "            '<a target=\"_blank\" href=https://colab.research.google.com/notebooks/data_table.ipynb>data table notebook</a>'\n",
              "            + ' to learn more about interactive tables.';\n",
              "          element.innerHTML = '';\n",
              "          dataTable['output_type'] = 'display_data';\n",
              "          await google.colab.output.renderOutput(dataTable, element);\n",
              "          const docLink = document.createElement('div');\n",
              "          docLink.innerHTML = docLinkHtml;\n",
              "          element.appendChild(docLink);\n",
              "        }\n",
              "      </script>\n",
              "    </div>\n",
              "  </div>\n",
              "  "
            ],
            "text/plain": [
              "     CustomerID  Gender  ...  Spending Score (1-100)  cluster\n",
              "0             1       0  ...                      39        3\n",
              "1             2       0  ...                      81        0\n",
              "2             3       1  ...                       6        3\n",
              "3             4       1  ...                      77        0\n",
              "4             5       1  ...                      40        3\n",
              "..          ...     ...  ...                     ...      ...\n",
              "195         196       1  ...                      79        2\n",
              "196         197       1  ...                      28        4\n",
              "197         198       0  ...                      74        2\n",
              "198         199       0  ...                      18        4\n",
              "199         200       0  ...                      83        2\n",
              "\n",
              "[200 rows x 6 columns]"
            ]
          },
          "metadata": {},
          "execution_count": 23
        }
      ],
      "source": [
        "df"
      ]
    },
    {
      "cell_type": "code",
      "execution_count": 24,
      "id": "ae12f149",
      "metadata": {
        "execution": {
          "iopub.execute_input": "2021-08-22T18:48:58.613354Z",
          "iopub.status.busy": "2021-08-22T18:48:58.612486Z",
          "iopub.status.idle": "2021-08-22T18:48:58.615876Z",
          "shell.execute_reply": "2021-08-22T18:48:58.616336Z",
          "shell.execute_reply.started": "2021-08-17T04:16:26.872102Z"
        },
        "papermill": {
          "duration": 0.059221,
          "end_time": "2021-08-22T18:48:58.616506",
          "exception": false,
          "start_time": "2021-08-22T18:48:58.557285",
          "status": "completed"
        },
        "tags": [],
        "colab": {
          "base_uri": "https://localhost:8080/"
        },
        "id": "ae12f149",
        "outputId": "e31c0ba6-355f-4ec3-9337-766b0c033637"
      },
      "outputs": [
        {
          "output_type": "execute_result",
          "data": {
            "text/plain": [
              "(200, 6)"
            ]
          },
          "metadata": {},
          "execution_count": 24
        }
      ],
      "source": [
        "df.shape"
      ]
    },
    {
      "cell_type": "code",
      "execution_count": 25,
      "id": "76050a49",
      "metadata": {
        "execution": {
          "iopub.execute_input": "2021-08-22T18:48:58.721293Z",
          "iopub.status.busy": "2021-08-22T18:48:58.720621Z",
          "iopub.status.idle": "2021-08-22T18:48:58.725757Z",
          "shell.execute_reply": "2021-08-22T18:48:58.726213Z",
          "shell.execute_reply.started": "2021-08-17T04:16:26.882879Z"
        },
        "papermill": {
          "duration": 0.058989,
          "end_time": "2021-08-22T18:48:58.726418",
          "exception": false,
          "start_time": "2021-08-22T18:48:58.667429",
          "status": "completed"
        },
        "tags": [],
        "id": "76050a49"
      },
      "outputs": [],
      "source": [
        "# Target Column is 'cluster'\n",
        "# Here, x is independent variable and y is dependent variable\n",
        "\n",
        "x = df.drop(['cluster'], axis=1).values\n",
        "y = df['cluster'].values"
      ]
    },
    {
      "cell_type": "code",
      "execution_count": 26,
      "id": "503ef471",
      "metadata": {
        "execution": {
          "iopub.execute_input": "2021-08-22T18:48:58.831385Z",
          "iopub.status.busy": "2021-08-22T18:48:58.830717Z",
          "iopub.status.idle": "2021-08-22T18:48:58.837056Z",
          "shell.execute_reply": "2021-08-22T18:48:58.836549Z",
          "shell.execute_reply.started": "2021-08-17T04:16:26.894964Z"
        },
        "papermill": {
          "duration": 0.059772,
          "end_time": "2021-08-22T18:48:58.837208",
          "exception": false,
          "start_time": "2021-08-22T18:48:58.777436",
          "status": "completed"
        },
        "tags": [],
        "colab": {
          "base_uri": "https://localhost:8080/"
        },
        "id": "503ef471",
        "outputId": "1469a8ce-d2a1-43b1-aa8c-cbbadc1b42ce"
      },
      "outputs": [
        {
          "output_type": "stream",
          "name": "stdout",
          "text": [
            "Shape of Sample Set = (200, 5)\n",
            "Shape of Target Set = (200,)\n"
          ]
        }
      ],
      "source": [
        "#Shape of Sample and Target Set\n",
        "\n",
        "print(f'Shape of Sample Set = {x.shape}')\n",
        "print(f'Shape of Target Set = {y.shape}')"
      ]
    },
    {
      "cell_type": "markdown",
      "id": "535bc245",
      "metadata": {
        "papermill": {
          "duration": 0.051142,
          "end_time": "2021-08-22T18:48:58.940095",
          "exception": false,
          "start_time": "2021-08-22T18:48:58.888953",
          "status": "completed"
        },
        "tags": [],
        "id": "535bc245"
      },
      "source": [
        "###  Split the data for training and testing"
      ]
    },
    {
      "cell_type": "code",
      "execution_count": 27,
      "id": "66d00eba",
      "metadata": {
        "execution": {
          "iopub.execute_input": "2021-08-22T18:48:59.048434Z",
          "iopub.status.busy": "2021-08-22T18:48:59.047733Z",
          "iopub.status.idle": "2021-08-22T18:48:59.049613Z",
          "shell.execute_reply": "2021-08-22T18:48:59.050109Z",
          "shell.execute_reply.started": "2021-08-17T04:16:26.904051Z"
        },
        "papermill": {
          "duration": 0.059274,
          "end_time": "2021-08-22T18:48:59.050290",
          "exception": false,
          "start_time": "2021-08-22T18:48:58.991016",
          "status": "completed"
        },
        "tags": [],
        "id": "66d00eba"
      },
      "outputs": [],
      "source": [
        "# Split the data for training and testing\n",
        "\n",
        "from sklearn.model_selection import train_test_split\n",
        "\n",
        "X_train, X_test, y_train, y_test =  train_test_split(x,y,test_size=0.3, random_state=10)\n"
      ]
    },
    {
      "cell_type": "markdown",
      "id": "3ea86820",
      "metadata": {
        "papermill": {
          "duration": 0.050773,
          "end_time": "2021-08-22T18:48:59.153140",
          "exception": false,
          "start_time": "2021-08-22T18:48:59.102367",
          "status": "completed"
        },
        "tags": [],
        "id": "3ea86820"
      },
      "source": [
        "### Explore the data and target values"
      ]
    },
    {
      "cell_type": "code",
      "execution_count": 28,
      "id": "26b2d3b1",
      "metadata": {
        "execution": {
          "iopub.execute_input": "2021-08-22T18:48:59.261049Z",
          "iopub.status.busy": "2021-08-22T18:48:59.260360Z",
          "iopub.status.idle": "2021-08-22T18:48:59.265254Z",
          "shell.execute_reply": "2021-08-22T18:48:59.264515Z",
          "shell.execute_reply.started": "2021-08-17T04:16:26.915715Z"
        },
        "papermill": {
          "duration": 0.061301,
          "end_time": "2021-08-22T18:48:59.265471",
          "exception": false,
          "start_time": "2021-08-22T18:48:59.204170",
          "status": "completed"
        },
        "tags": [],
        "colab": {
          "base_uri": "https://localhost:8080/"
        },
        "id": "26b2d3b1",
        "outputId": "b13d879a-3cbb-405a-ff51-93da46593acb"
      },
      "outputs": [
        {
          "output_type": "stream",
          "name": "stdout",
          "text": [
            "X_train.shape = (140, 5)\n",
            "X_test.shape  = (60, 5)\n",
            "\n",
            "y_train.shape = (140,)\n",
            "y_test.shape  = (60,)\n"
          ]
        }
      ],
      "source": [
        "# Shapes of the training and testing data\n",
        "\n",
        "print(f'X_train.shape = {X_train.shape}')\n",
        "print(f'X_test.shape  = {X_test.shape}')\n",
        "\n",
        "print()\n",
        "print(f'y_train.shape = {y_train.shape}')\n",
        "print(f'y_test.shape  = {y_test.shape}')"
      ]
    },
    {
      "cell_type": "markdown",
      "id": "80806868",
      "metadata": {
        "papermill": {
          "duration": 0.05103,
          "end_time": "2021-08-22T18:48:59.368575",
          "exception": false,
          "start_time": "2021-08-22T18:48:59.317545",
          "status": "completed"
        },
        "tags": [],
        "id": "80806868"
      },
      "source": [
        "### Create and train the k-nearest neighbors model"
      ]
    },
    {
      "cell_type": "code",
      "execution_count": 29,
      "id": "a524d715",
      "metadata": {
        "execution": {
          "iopub.execute_input": "2021-08-22T18:48:59.479070Z",
          "iopub.status.busy": "2021-08-22T18:48:59.478073Z",
          "iopub.status.idle": "2021-08-22T18:48:59.485128Z",
          "shell.execute_reply": "2021-08-22T18:48:59.484601Z",
          "shell.execute_reply.started": "2021-08-17T04:16:26.928144Z"
        },
        "papermill": {
          "duration": 0.064661,
          "end_time": "2021-08-22T18:48:59.485270",
          "exception": false,
          "start_time": "2021-08-22T18:48:59.420609",
          "status": "completed"
        },
        "tags": [],
        "colab": {
          "base_uri": "https://localhost:8080/"
        },
        "id": "a524d715",
        "outputId": "52e2a066-4e48-4066-94ae-ed796374e659"
      },
      "outputs": [
        {
          "output_type": "execute_result",
          "data": {
            "text/plain": [
              "KNeighborsClassifier()"
            ]
          },
          "metadata": {},
          "execution_count": 29
        }
      ],
      "source": [
        "from sklearn.neighbors import KNeighborsClassifier\n",
        "\n",
        "knn = KNeighborsClassifier(n_neighbors=5)\n",
        "knn.fit(X=X_train, y=y_train)"
      ]
    },
    {
      "cell_type": "code",
      "execution_count": 30,
      "id": "01186628",
      "metadata": {
        "execution": {
          "iopub.execute_input": "2021-08-22T18:48:59.591495Z",
          "iopub.status.busy": "2021-08-22T18:48:59.590842Z",
          "iopub.status.idle": "2021-08-22T18:48:59.601194Z",
          "shell.execute_reply": "2021-08-22T18:48:59.601932Z",
          "shell.execute_reply.started": "2021-08-17T04:16:26.942078Z"
        },
        "papermill": {
          "duration": 0.065214,
          "end_time": "2021-08-22T18:48:59.602159",
          "exception": false,
          "start_time": "2021-08-22T18:48:59.536945",
          "status": "completed"
        },
        "tags": [],
        "colab": {
          "base_uri": "https://localhost:8080/"
        },
        "id": "01186628",
        "outputId": "e930012f-a0e4-408a-d6fa-fd82554b92b9"
      },
      "outputs": [
        {
          "output_type": "stream",
          "name": "stdout",
          "text": [
            "First twenty predictions:\n",
            "predicted[:20] = [1 0 3 4 1 0 4 1 1 3 1 3 1 4 1 1 1 1 1 2]\n",
            " expected[:20] = [1 0 3 4 1 0 4 1 1 3 1 3 1 1 4 1 1 1 1 2]\n"
          ]
        }
      ],
      "source": [
        "# Test the model by predicting cluster\n",
        "\n",
        "predicted = knn.predict(X=X_test)\n",
        "expected = y_test\n",
        "\n",
        "print('First twenty predictions:')\n",
        "print(f'predicted[:20] = {predicted[:20]}')\n",
        "print(f' expected[:20] = {expected[:20]}')"
      ]
    },
    {
      "cell_type": "code",
      "execution_count": 31,
      "id": "b54aaaad",
      "metadata": {
        "execution": {
          "iopub.execute_input": "2021-08-22T18:48:59.713145Z",
          "iopub.status.busy": "2021-08-22T18:48:59.712494Z",
          "iopub.status.idle": "2021-08-22T18:48:59.716035Z",
          "shell.execute_reply": "2021-08-22T18:48:59.715410Z",
          "shell.execute_reply.started": "2021-08-17T04:16:26.958804Z"
        },
        "papermill": {
          "duration": 0.061397,
          "end_time": "2021-08-22T18:48:59.716173",
          "exception": false,
          "start_time": "2021-08-22T18:48:59.654776",
          "status": "completed"
        },
        "tags": [],
        "colab": {
          "base_uri": "https://localhost:8080/"
        },
        "id": "b54aaaad",
        "outputId": "eb3dec0e-2728-48bf-e95d-1c96aacf98f8"
      },
      "outputs": [
        {
          "output_type": "stream",
          "name": "stdout",
          "text": [
            "Wrong predictions:\n",
            "[(4, 1), (1, 4), (0, 1)]\n"
          ]
        }
      ],
      "source": [
        "wrong = [ (pred, exp) \n",
        "          for (pred, exp) in zip(predicted, expected) \n",
        "          if pred != exp\n",
        "        ]\n",
        "\n",
        "print('Wrong predictions:')\n",
        "print(wrong)"
      ]
    },
    {
      "cell_type": "code",
      "execution_count": 32,
      "id": "5e70fd7c",
      "metadata": {
        "execution": {
          "iopub.execute_input": "2021-08-22T18:48:59.826910Z",
          "iopub.status.busy": "2021-08-22T18:48:59.826220Z",
          "iopub.status.idle": "2021-08-22T18:48:59.833464Z",
          "shell.execute_reply": "2021-08-22T18:48:59.833930Z",
          "shell.execute_reply.started": "2021-08-17T04:16:26.969803Z"
        },
        "papermill": {
          "duration": 0.065545,
          "end_time": "2021-08-22T18:48:59.834104",
          "exception": false,
          "start_time": "2021-08-22T18:48:59.768559",
          "status": "completed"
        },
        "tags": [],
        "colab": {
          "base_uri": "https://localhost:8080/"
        },
        "id": "5e70fd7c",
        "outputId": "9226e69a-3594-4fbf-f669-ae02fda8296e"
      },
      "outputs": [
        {
          "output_type": "stream",
          "name": "stdout",
          "text": [
            "Prediction accuracy score = 95.00%\n"
          ]
        }
      ],
      "source": [
        "# Model prediction accuracy\n",
        "\n",
        "print(f'Prediction accuracy score = {knn.score(X_test, y_test):.2%}')"
      ]
    },
    {
      "cell_type": "markdown",
      "id": "73ac9b01",
      "metadata": {
        "papermill": {
          "duration": 0.052262,
          "end_time": "2021-08-22T18:48:59.940475",
          "exception": false,
          "start_time": "2021-08-22T18:48:59.888213",
          "status": "completed"
        },
        "tags": [],
        "id": "73ac9b01"
      },
      "source": [
        "### Confusion Matrix"
      ]
    },
    {
      "cell_type": "code",
      "execution_count": 33,
      "id": "223df9dc",
      "metadata": {
        "execution": {
          "iopub.execute_input": "2021-08-22T18:49:00.052649Z",
          "iopub.status.busy": "2021-08-22T18:49:00.051996Z",
          "iopub.status.idle": "2021-08-22T18:49:00.055946Z",
          "shell.execute_reply": "2021-08-22T18:49:00.055177Z",
          "shell.execute_reply.started": "2021-08-17T04:16:26.999084Z"
        },
        "papermill": {
          "duration": 0.062524,
          "end_time": "2021-08-22T18:49:00.056129",
          "exception": false,
          "start_time": "2021-08-22T18:48:59.993605",
          "status": "completed"
        },
        "tags": [],
        "colab": {
          "base_uri": "https://localhost:8080/"
        },
        "id": "223df9dc",
        "outputId": "1ce3138c-b763-4b2f-8ca2-470f70393906"
      },
      "outputs": [
        {
          "output_type": "stream",
          "name": "stdout",
          "text": [
            "Confusion matrix:\n",
            "[[ 7  0  0  0  0]\n",
            " [ 1 28  0  0  1]\n",
            " [ 0  0  7  0  0]\n",
            " [ 0  0  0  5  0]\n",
            " [ 0  1  0  0 10]]\n"
          ]
        }
      ],
      "source": [
        "from sklearn.metrics import confusion_matrix\n",
        "\n",
        "confusion = confusion_matrix(y_true=expected, y_pred=predicted)\n",
        "\n",
        "print('Confusion matrix:')\n",
        "print(confusion)"
      ]
    },
    {
      "cell_type": "code",
      "execution_count": 34,
      "id": "17221211",
      "metadata": {
        "execution": {
          "iopub.execute_input": "2021-08-22T18:49:00.190925Z",
          "iopub.status.busy": "2021-08-22T18:49:00.185673Z",
          "iopub.status.idle": "2021-08-22T18:49:00.516036Z",
          "shell.execute_reply": "2021-08-22T18:49:00.515539Z",
          "shell.execute_reply.started": "2021-08-17T04:16:27.018347Z"
        },
        "papermill": {
          "duration": 0.405867,
          "end_time": "2021-08-22T18:49:00.516176",
          "exception": false,
          "start_time": "2021-08-22T18:49:00.110309",
          "status": "completed"
        },
        "tags": [],
        "colab": {
          "base_uri": "https://localhost:8080/",
          "height": 271
        },
        "id": "17221211",
        "outputId": "664278f2-308f-4f13-e098-6531657a1302"
      },
      "outputs": [
        {
          "output_type": "display_data",
          "data": {
            "image/png": "[encoded data removed]",
            "text/plain": [
              "<Figure size 432x288 with 2 Axes>"
            ]
          },
          "metadata": {}
        }
      ],
      "source": [
        "import pandas as pd\n",
        "import seaborn as sns\n",
        "\n",
        "confusion_df = pd.DataFrame(confusion, index=range(5), columns=range(5))\n",
        "axes = sns.heatmap(confusion_df, annot=True, cmap='nipy_spectral_r')"
      ]
    },
    {
      "cell_type": "markdown",
      "id": "a05f66ae",
      "metadata": {
        "papermill": {
          "duration": 0.053955,
          "end_time": "2021-08-22T18:49:00.624042",
          "exception": false,
          "start_time": "2021-08-22T18:49:00.570087",
          "status": "completed"
        },
        "tags": [],
        "id": "a05f66ae"
      },
      "source": [
        "### Classification Report"
      ]
    },
    {
      "cell_type": "code",
      "execution_count": 36,
      "id": "a587a786",
      "metadata": {
        "execution": {
          "iopub.execute_input": "2021-08-22T18:49:00.737993Z",
          "iopub.status.busy": "2021-08-22T18:49:00.737282Z",
          "iopub.status.idle": "2021-08-22T18:49:00.749119Z",
          "shell.execute_reply": "2021-08-22T18:49:00.749855Z",
          "shell.execute_reply.started": "2021-08-17T04:16:27.407942Z"
        },
        "papermill": {
          "duration": 0.071698,
          "end_time": "2021-08-22T18:49:00.750080",
          "exception": false,
          "start_time": "2021-08-22T18:49:00.678382",
          "status": "completed"
        },
        "tags": [],
        "colab": {
          "base_uri": "https://localhost:8080/"
        },
        "id": "a587a786",
        "outputId": "76e6ccc8-e269-4bb8-bf6d-a9d93317b0ce"
      },
      "outputs": [
        {
          "output_type": "stream",
          "name": "stdout",
          "text": [
            "              precision    recall  f1-score   support\n",
            "\n",
            "           0       0.88      1.00      0.93         7\n",
            "           1       0.97      0.93      0.95        30\n",
            "           2       1.00      1.00      1.00         7\n",
            "           3       1.00      1.00      1.00         5\n",
            "           4       0.91      0.91      0.91        11\n",
            "\n",
            "    accuracy                           0.95        60\n",
            "   macro avg       0.95      0.97      0.96        60\n",
            "weighted avg       0.95      0.95      0.95        60\n",
            "\n"
          ]
        }
      ],
      "source": [
        "from sklearn.metrics import classification_report\n",
        "\n",
        "names = [0,1,2,3,4]\n",
        "print(classification_report(expected, predicted))"
      ]
    }
  ],
  "metadata": {
    "kernelspec": {
      "display_name": "Python 3",
      "language": "python",
      "name": "python3"
    },
    "language_info": {
      "codemirror_mode": {
        "name": "ipython",
        "version": 3
      },
      "file_extension": ".py",
      "mimetype": "text/x-python",
      "name": "python",
      "nbconvert_exporter": "python",
      "pygments_lexer": "ipython3",
      "version": "3.7.10"
    },
    "papermill": {
      "default_parameters": {},
      "duration": 22.852386,
      "end_time": "2021-08-22T18:49:02.416096",
      "environment_variables": {},
      "exception": null,
      "input_path": "__notebook__.ipynb",
      "output_path": "__notebook__.ipynb",
      "parameters": {},
      "start_time": "2021-08-22T18:48:39.563710",
      "version": "2.3.3"
    },
    "colab": {
      "name": "MarketBasket-analysis.ipynb",
      "provenance": [],
      "include_colab_link": true
    }
  },
  "nbformat": 4,
  "nbformat_minor": 5
}